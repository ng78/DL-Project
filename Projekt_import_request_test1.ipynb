{
 "cells": [
  {
   "cell_type": "code",
   "execution_count": 1,
   "metadata": {},
   "outputs": [],
   "source": [
    "import csv"
   ]
  },
  {
   "cell_type": "code",
   "execution_count": 11,
   "metadata": {},
   "outputs": [
    {
     "name": "stdout",
     "output_type": "stream",
     "text": [
      "HT019793989\n",
      "HT020379995\n",
      "HT020319679\n",
      "HT014682026\n"
     ]
    }
   ],
   "source": [
    "for line in open('./aussonderung.csv', 'r'):\n",
    "    print(line.strip())"
   ]
  },
  {
   "cell_type": "code",
   "execution_count": 14,
   "metadata": {},
   "outputs": [],
   "source": [
    "import requests"
   ]
  },
  {
   "cell_type": "code",
   "execution_count": 15,
   "metadata": {},
   "outputs": [],
   "source": [
    "for line in open('./aussonderung.csv', 'r'):\n",
    "    r = requests.get('https://lobid.org/resources/'+line.strip())"
   ]
  },
  {
   "cell_type": "code",
   "execution_count": 16,
   "metadata": {},
   "outputs": [
    {
     "data": {
      "text/plain": [
       "requests.models.Response"
      ]
     },
     "execution_count": 16,
     "metadata": {},
     "output_type": "execute_result"
    }
   ],
   "source": [
    "type(r)"
   ]
  },
  {
   "cell_type": "code",
   "execution_count": 17,
   "metadata": {},
   "outputs": [
    {
     "name": "stdout",
     "output_type": "stream",
     "text": [
      "<Response [200]>\n"
     ]
    }
   ],
   "source": [
    "print(r)"
   ]
  },
  {
   "cell_type": "code",
   "execution_count": 18,
   "metadata": {},
   "outputs": [
    {
     "data": {
      "text/plain": [
       "200"
      ]
     },
     "execution_count": 18,
     "metadata": {},
     "output_type": "execute_result"
    }
   ],
   "source": [
    "r.status_code"
   ]
  },
  {
   "cell_type": "code",
   "execution_count": 19,
   "metadata": {},
   "outputs": [
    {
     "data": {
      "text/plain": [
       "{'Date': 'Wed, 10 Jun 2020 07:52:38 GMT', 'Server': 'Apache/2.4.10 (Linux/SUSE)', 'Content-Type': 'application/json; charset=utf-8', 'Access-Control-Allow-Origin': '*', 'Vary': 'Accept-Encoding', 'Content-Encoding': 'gzip', 'Content-Length': '1840', 'Keep-Alive': 'timeout=15, max=512', 'Connection': 'Keep-Alive'}"
      ]
     },
     "execution_count": 19,
     "metadata": {},
     "output_type": "execute_result"
    }
   ],
   "source": [
    "r.headers"
   ]
  },
  {
   "cell_type": "code",
   "execution_count": 20,
   "metadata": {},
   "outputs": [
    {
     "data": {
      "text/plain": [
       "'application/json; charset=utf-8'"
      ]
     },
     "execution_count": 20,
     "metadata": {},
     "output_type": "execute_result"
    }
   ],
   "source": [
    "r.headers['Content-Type']"
   ]
  },
  {
   "cell_type": "code",
   "execution_count": 21,
   "metadata": {},
   "outputs": [
    {
     "data": {
      "text/plain": [
       "'{\\n  \"type\" : [ \"BibliographicResource\", \"Book\" ],\\n  \"contribution\" : [ {\\n    \"type\" : [ \"Contribution\" ],\\n    \"agent\" : {\\n      \"id\" : \"https://d-nb.info/gnd/115539778\",\\n      \"type\" : [ \"Person\" ],\\n      \"label\" : \"Hecken, Thomas\",\\n      \"dateOfBirth\" : \"1964\",\\n      \"gndIdentifier\" : \"115539778\"\\n    },\\n    \"role\" : {\\n      \"id\" : \"http://id.loc.gov/vocabulary/relators/cre\",\\n      \"label\" : \"Autor/in\"\\n    }\\n  } ],\\n  \"extent\" : \"218 S.\",\\n  \"hasItem\" : [ {\\n    \"id\" : \"http://lobid.org/items/HT014682026:DE-708:OCW%2FHECK#!\",\\n    \"type\" : [ \"Item\" ],\\n    \"heldBy\" : {\\n      \"id\" : \"http://lobid.org/organisations/DE-708#!\",\\n      \"label\" : \"lobid Organisation\"\\n    },\\n    \"note\" : \"00\",\\n    \"callNumber\" : \"OCW/HECK\",\\n    \"label\" : \"OCW/HECK\"\\n  }, {\\n    \"id\" : \"http://lobid.org/items/HT014682026:DE-361:CQ950%20H448#!\",\\n    \"type\" : [ \"Item\" ],\\n    \"heldBy\" : {\\n      \"id\" : \"http://lobid.org/organisations/DE-361#!\",\\n      \"label\" : \"lobid Organisation\"\\n    },\\n    \"note\" : \"00000014\",\\n    \"callNumber\" : \"CQ950 H448\",\\n    \"label\" : \"CQ950 H448\"\\n  }, {\\n    \"id\" : \"http://lobid.org/items/HT014682026:DE-82:LF1565#!\",\\n    \"type\" : [ \"Item\" ],\\n    \"heldBy\" : {\\n      \"id\" : \"http://lobid.org/organisations/DE-82#!\",\\n      \"label\" : \"lobid Organisation\"\\n    },\\n    \"note\" : \"00000000\",\\n    \"callNumber\" : \"LF1565\",\\n    \"label\" : \"LF1565\"\\n  }, {\\n    \"id\" : \"http://lobid.org/items/HT014682026:DE-5-7:H%20439%2F6%20d#!\",\\n    \"type\" : [ \"Item\" ],\\n    \"heldBy\" : {\\n      \"id\" : \"http://lobid.org/organisations/DE-5-7#!\",\\n      \"label\" : \"lobid Organisation\"\\n    },\\n    \"note\" : \"00058000\",\\n    \"callNumber\" : \"H 439/6 d\",\\n    \"label\" : \"H 439/6 d\"\\n  }, {\\n    \"id\" : \"http://lobid.org/items/HT014682026:DE-Bm3-2:AB%20314%2F3#!\",\\n    \"type\" : [ \"Item\" ],\\n    \"heldBy\" : {\\n      \"id\" : \"http://lobid.org/organisations/DE-Bm3-2#!\",\\n      \"label\" : \"lobid Organisation\"\\n    },\\n    \"note\" : \"F\",\\n    \"callNumber\" : \"AB 314/3\",\\n    \"label\" : \"AB 314/3\"\\n  }, {\\n    \"id\" : \"http://lobid.org/items/HT014682026:DE-294:CXB9423#!\",\\n    \"type\" : [ \"Item\" ],\\n    \"heldBy\" : {\\n      \"id\" : \"http://lobid.org/organisations/DE-294#!\",\\n      \"label\" : \"lobid Organisation\"\\n    },\\n    \"note\" : \"00000013\",\\n    \"callNumber\" : \"CXB9423\",\\n    \"label\" : \"CXB9423\"\\n  }, {\\n    \"id\" : \"http://lobid.org/items/HT014682026:DE-467:01AGPP1053#!\",\\n    \"type\" : [ \"Item\" ],\\n    \"heldBy\" : {\\n      \"id\" : \"http://lobid.org/organisations/DE-467#!\",\\n      \"label\" : \"lobid Organisation\"\\n    },\\n    \"note\" : \"H4\",\\n    \"callNumber\" : \"01AGPP1053\",\\n    \"label\" : \"01AGPP1053\"\\n  }, {\\n    \"id\" : \"http://lobid.org/items/HT014682026:DE-294-61:K%20Gf%20II%20311.1#!\",\\n    \"type\" : [ \"Item\" ],\\n    \"heldBy\" : {\\n      \"id\" : \"http://lobid.org/organisations/DE-294-61#!\",\\n      \"label\" : \"lobid Organisation\"\\n    },\\n    \"note\" : \"00061000\",\\n    \"callNumber\" : \"K Gf II 311.1\",\\n    \"label\" : \"K Gf II 311.1\"\\n  }, {\\n    \"id\" : \"http://lobid.org/items/HT014682026:DE-6-248:Ir%20455,18#!\",\\n    \"type\" : [ \"Item\" ],\\n    \"heldBy\" : {\\n      \"id\" : \"http://lobid.org/organisations/DE-6-248#!\",\\n      \"label\" : \"lobid Organisation\"\\n    },\\n    \"note\" : \"00016001\",\\n    \"callNumber\" : \"Ir 455,18\",\\n    \"label\" : \"Ir 455,18\"\\n  }, {\\n    \"id\" : \"http://lobid.org/items/HT014682026:DE-290:D%2036043#!\",\\n    \"type\" : [ \"Item\" ],\\n    \"heldBy\" : {\\n      \"id\" : \"http://lobid.org/organisations/DE-290#!\",\\n      \"label\" : \"lobid Organisation\"\\n    },\\n    \"note\" : \"00000001\",\\n    \"callNumber\" : \"D 36043\",\\n    \"label\" : \"D 36043\"\\n  }, {\\n    \"id\" : \"http://lobid.org/items/HT014682026:DE-465:OHU2143#!\",\\n    \"type\" : [ \"Item\" ],\\n    \"heldBy\" : {\\n      \"id\" : \"http://lobid.org/organisations/DE-465#!\",\\n      \"label\" : \"lobid Organisation\"\\n    },\\n    \"note\" : \"E11\",\\n    \"callNumber\" : \"OHU2143\",\\n    \"label\" : \"OHU2143\"\\n  }, {\\n    \"id\" : \"http://lobid.org/items/HT014682026:DE-61:alge975.h448#!\",\\n    \"type\" : [ \"Item\" ],\\n    \"heldBy\" : {\\n      \"id\" : \"http://lobid.org/organisations/DE-61#!\",\\n      \"label\" : \"lobid Organisation\"\\n    },\\n    \"note\" : \"01\",\\n    \"callNumber\" : \"alge975.h448\",\\n    \"label\" : \"alge975.h448\"\\n  } ],\\n  \"responsibilityStatement\" : [ \"Thomas Hecken\" ],\\n  \"description\" : [ {\\n    \"id\" : \"http://deposit.dnb.de/cgi-bin/dokserv?id=2764211&prov=M&dok_var=1&dok_ext=htm\",\\n    \"label\" : \"dokserv?id=2764211&prov=M&dok_var=1&dok_ext=htm\"\\n  } ],\\n  \"language\" : [ {\\n    \"id\" : \"http://id.loc.gov/vocabulary/iso639-2/deu\",\\n    \"label\" : \"Deutsch\"\\n  } ],\\n  \"medium\" : [ {\\n    \"id\" : \"http://rdaregistry.info/termList/RDAproductionMethod/1010\",\\n    \"label\" : \"Print\"\\n  } ],\\n  \"subject\" : [ {\\n    \"type\" : [ \"ComplexSubject\" ],\\n    \"componentList\" : [ {\\n      \"id\" : \"https://d-nb.info/gnd/4130375-1\",\\n      \"type\" : [ \"SubjectHeading\" ],\\n      \"source\" : {\\n        \"id\" : \"https://d-nb.info/gnd/7749153-1\",\\n        \"label\" : \"Gemeinsame Normdatei (GND)\"\\n      },\\n      \"label\" : \"Gegenkultur\",\\n      \"gndIdentifier\" : \"4130375-1\"\\n    }, {\\n      \"type\" : [ \"SubjectHeading\" ],\\n      \"label\" : \"Geschichte 1950-1970\"\\n    } ],\\n    \"label\" : \"Gegenkultur | Geschichte 1950-1970\"\\n  } ],\\n  \"tableOfContents\" : [ {\\n    \"id\" : \"http://digitale-objekte.hbz-nrw.de/storage/2007/11/26/file_77/2210699.pdf\",\\n    \"label\" : \"2210699.pdf\"\\n  } ],\\n  \"title\" : \"Gegenkultur und Avantgarde 1950 - 1970\",\\n  \"hbzId\" : \"HT014682026\",\\n  \"subjectAltLabel\" : [ \"Alternative Kultur (Gegenkultur)\", \"Alternativkultur (Gegenkultur)\" ],\\n  \"isbn\" : [ \"3772081576\", \"9783772081576\" ],\\n  \"oclcNumber\" : [ \"181535840\" ],\\n  \"otherTitleInformation\" : [ \"Situationisten, Beatniks, 68er\" ],\\n  \"publication\" : [ {\\n    \"type\" : [ \"PublicationEvent\" ],\\n    \"location\" : \"Tübingen\",\\n    \"publishedBy\" : \"Francke\",\\n    \"startDate\" : \"2006\"\\n  } ],\\n  \"sameAs\" : [ {\\n    \"id\" : \"http://worldcat.org/oclc/181535840\",\\n    \"label\" : \"181535840\"\\n  }, {\\n    \"id\" : \"http://hub.culturegraph.org/resource/HBZ-HT014682026\",\\n    \"label\" : \"Culturegraph Ressource\"\\n  } ],\\n  \"describedBy\" : {\\n    \"id\" : \"http://lobid.org/resources/HT014682026\",\\n    \"type\" : [ \"BibliographicDescription\" ],\\n    \"modifiedBy\" : {\\n      \"id\" : \"http://lobid.org/organisations/DE-467#!\",\\n      \"label\" : \"lobid Organisation\"\\n    },\\n    \"dateCreated\" : \"20060323\",\\n    \"dateModified\" : \"20060427\",\\n    \"inDataset\" : {\\n      \"id\" : \"http://lobid.org/resources/dataset#!\",\\n      \"label\" : \"lobid-resources – Der hbz-Verbundkatalog als Linked Open Data\"\\n    },\\n    \"resultOf\" : {\\n      \"type\" : [ \"CreateAction\" ],\\n      \"endTime\" : \"2020-06-07T06:46:14\",\\n      \"instrument\" : {\\n        \"id\" : \"https://github.com/hbz/lobid-resources\",\\n        \"type\" : [ \"SoftwareApplication\" ],\\n        \"label\" : \"Software lobid-resources\"\\n      },\\n      \"object\" : {\\n        \"id\" : \"http://lobid.org/hbz01/HT014682026\",\\n        \"type\" : [ \"DataFeedItem\" ],\\n        \"inDataset\" : {\\n          \"id\" : \"https://datahub.io/dataset/hbz_unioncatalog\",\\n          \"label\" : \"hbz_unioncatalog\"\\n        },\\n        \"label\" : \"hbz-Ressource HT014682026 im Exportformat MAB2-XML\"\\n      }\\n    },\\n    \"license\" : [ {\\n      \"id\" : \"http://creativecommons.org/publicdomain/zero/1.0\",\\n      \"label\" : \"Creative Commons-Lizenz CC0 1.0 Universal\"\\n    } ],\\n    \"provider\" : {\\n      \"id\" : \"http://lobid.org/organisations/DE-292#!\",\\n      \"label\" : \"lobid Organisation\"\\n    },\\n    \"sourceOrganization\" : {\\n      \"id\" : \"http://lobid.org/organisations/DE-82#!\",\\n      \"label\" : \"lobid Organisation\"\\n    },\\n    \"label\" : \"Webseite der hbz-Ressource HT014682026\"\\n  },\\n  \"@context\" : \"http://lobid.org/resources/context.jsonld\",\\n  \"id\" : \"http://lobid.org/resources/HT014682026#!\"\\n}'"
      ]
     },
     "execution_count": 21,
     "metadata": {},
     "output_type": "execute_result"
    }
   ],
   "source": [
    "r.text"
   ]
  },
  {
   "cell_type": "code",
   "execution_count": 22,
   "metadata": {},
   "outputs": [],
   "source": [
    "import json"
   ]
  },
  {
   "cell_type": "code",
   "execution_count": 23,
   "metadata": {},
   "outputs": [],
   "source": [
    "data = r.json()"
   ]
  },
  {
   "cell_type": "code",
   "execution_count": 24,
   "metadata": {},
   "outputs": [
    {
     "data": {
      "text/plain": [
       "dict"
      ]
     },
     "execution_count": 24,
     "metadata": {},
     "output_type": "execute_result"
    }
   ],
   "source": [
    "type(data)"
   ]
  },
  {
   "cell_type": "code",
   "execution_count": 25,
   "metadata": {},
   "outputs": [
    {
     "name": "stdout",
     "output_type": "stream",
     "text": [
      "{'type': ['BibliographicResource', 'Book'], 'contribution': [{'type': ['Contribution'], 'agent': {'id': 'https://d-nb.info/gnd/115539778', 'type': ['Person'], 'label': 'Hecken, Thomas', 'dateOfBirth': '1964', 'gndIdentifier': '115539778'}, 'role': {'id': 'http://id.loc.gov/vocabulary/relators/cre', 'label': 'Autor/in'}}], 'extent': '218 S.', 'hasItem': [{'id': 'http://lobid.org/items/HT014682026:DE-708:OCW%2FHECK#!', 'type': ['Item'], 'heldBy': {'id': 'http://lobid.org/organisations/DE-708#!', 'label': 'lobid Organisation'}, 'note': '00', 'callNumber': 'OCW/HECK', 'label': 'OCW/HECK'}, {'id': 'http://lobid.org/items/HT014682026:DE-361:CQ950%20H448#!', 'type': ['Item'], 'heldBy': {'id': 'http://lobid.org/organisations/DE-361#!', 'label': 'lobid Organisation'}, 'note': '00000014', 'callNumber': 'CQ950 H448', 'label': 'CQ950 H448'}, {'id': 'http://lobid.org/items/HT014682026:DE-82:LF1565#!', 'type': ['Item'], 'heldBy': {'id': 'http://lobid.org/organisations/DE-82#!', 'label': 'lobid Organisation'}, 'note': '00000000', 'callNumber': 'LF1565', 'label': 'LF1565'}, {'id': 'http://lobid.org/items/HT014682026:DE-5-7:H%20439%2F6%20d#!', 'type': ['Item'], 'heldBy': {'id': 'http://lobid.org/organisations/DE-5-7#!', 'label': 'lobid Organisation'}, 'note': '00058000', 'callNumber': 'H 439/6 d', 'label': 'H 439/6 d'}, {'id': 'http://lobid.org/items/HT014682026:DE-Bm3-2:AB%20314%2F3#!', 'type': ['Item'], 'heldBy': {'id': 'http://lobid.org/organisations/DE-Bm3-2#!', 'label': 'lobid Organisation'}, 'note': 'F', 'callNumber': 'AB 314/3', 'label': 'AB 314/3'}, {'id': 'http://lobid.org/items/HT014682026:DE-294:CXB9423#!', 'type': ['Item'], 'heldBy': {'id': 'http://lobid.org/organisations/DE-294#!', 'label': 'lobid Organisation'}, 'note': '00000013', 'callNumber': 'CXB9423', 'label': 'CXB9423'}, {'id': 'http://lobid.org/items/HT014682026:DE-467:01AGPP1053#!', 'type': ['Item'], 'heldBy': {'id': 'http://lobid.org/organisations/DE-467#!', 'label': 'lobid Organisation'}, 'note': 'H4', 'callNumber': '01AGPP1053', 'label': '01AGPP1053'}, {'id': 'http://lobid.org/items/HT014682026:DE-294-61:K%20Gf%20II%20311.1#!', 'type': ['Item'], 'heldBy': {'id': 'http://lobid.org/organisations/DE-294-61#!', 'label': 'lobid Organisation'}, 'note': '00061000', 'callNumber': 'K Gf II 311.1', 'label': 'K Gf II 311.1'}, {'id': 'http://lobid.org/items/HT014682026:DE-6-248:Ir%20455,18#!', 'type': ['Item'], 'heldBy': {'id': 'http://lobid.org/organisations/DE-6-248#!', 'label': 'lobid Organisation'}, 'note': '00016001', 'callNumber': 'Ir 455,18', 'label': 'Ir 455,18'}, {'id': 'http://lobid.org/items/HT014682026:DE-290:D%2036043#!', 'type': ['Item'], 'heldBy': {'id': 'http://lobid.org/organisations/DE-290#!', 'label': 'lobid Organisation'}, 'note': '00000001', 'callNumber': 'D 36043', 'label': 'D 36043'}, {'id': 'http://lobid.org/items/HT014682026:DE-465:OHU2143#!', 'type': ['Item'], 'heldBy': {'id': 'http://lobid.org/organisations/DE-465#!', 'label': 'lobid Organisation'}, 'note': 'E11', 'callNumber': 'OHU2143', 'label': 'OHU2143'}, {'id': 'http://lobid.org/items/HT014682026:DE-61:alge975.h448#!', 'type': ['Item'], 'heldBy': {'id': 'http://lobid.org/organisations/DE-61#!', 'label': 'lobid Organisation'}, 'note': '01', 'callNumber': 'alge975.h448', 'label': 'alge975.h448'}], 'responsibilityStatement': ['Thomas Hecken'], 'description': [{'id': 'http://deposit.dnb.de/cgi-bin/dokserv?id=2764211&prov=M&dok_var=1&dok_ext=htm', 'label': 'dokserv?id=2764211&prov=M&dok_var=1&dok_ext=htm'}], 'language': [{'id': 'http://id.loc.gov/vocabulary/iso639-2/deu', 'label': 'Deutsch'}], 'medium': [{'id': 'http://rdaregistry.info/termList/RDAproductionMethod/1010', 'label': 'Print'}], 'subject': [{'type': ['ComplexSubject'], 'componentList': [{'id': 'https://d-nb.info/gnd/4130375-1', 'type': ['SubjectHeading'], 'source': {'id': 'https://d-nb.info/gnd/7749153-1', 'label': 'Gemeinsame Normdatei (GND)'}, 'label': 'Gegenkultur', 'gndIdentifier': '4130375-1'}, {'type': ['SubjectHeading'], 'label': 'Geschichte 1950-1970'}], 'label': 'Gegenkultur | Geschichte 1950-1970'}], 'tableOfContents': [{'id': 'http://digitale-objekte.hbz-nrw.de/storage/2007/11/26/file_77/2210699.pdf', 'label': '2210699.pdf'}], 'title': 'Gegenkultur und Avantgarde 1950 - 1970', 'hbzId': 'HT014682026', 'subjectAltLabel': ['Alternative Kultur (Gegenkultur)', 'Alternativkultur (Gegenkultur)'], 'isbn': ['3772081576', '9783772081576'], 'oclcNumber': ['181535840'], 'otherTitleInformation': ['Situationisten, Beatniks, 68er'], 'publication': [{'type': ['PublicationEvent'], 'location': 'Tübingen', 'publishedBy': 'Francke', 'startDate': '2006'}], 'sameAs': [{'id': 'http://worldcat.org/oclc/181535840', 'label': '181535840'}, {'id': 'http://hub.culturegraph.org/resource/HBZ-HT014682026', 'label': 'Culturegraph Ressource'}], 'describedBy': {'id': 'http://lobid.org/resources/HT014682026', 'type': ['BibliographicDescription'], 'modifiedBy': {'id': 'http://lobid.org/organisations/DE-467#!', 'label': 'lobid Organisation'}, 'dateCreated': '20060323', 'dateModified': '20060427', 'inDataset': {'id': 'http://lobid.org/resources/dataset#!', 'label': 'lobid-resources – Der hbz-Verbundkatalog als Linked Open Data'}, 'resultOf': {'type': ['CreateAction'], 'endTime': '2020-06-07T06:46:14', 'instrument': {'id': 'https://github.com/hbz/lobid-resources', 'type': ['SoftwareApplication'], 'label': 'Software lobid-resources'}, 'object': {'id': 'http://lobid.org/hbz01/HT014682026', 'type': ['DataFeedItem'], 'inDataset': {'id': 'https://datahub.io/dataset/hbz_unioncatalog', 'label': 'hbz_unioncatalog'}, 'label': 'hbz-Ressource HT014682026 im Exportformat MAB2-XML'}}, 'license': [{'id': 'http://creativecommons.org/publicdomain/zero/1.0', 'label': 'Creative Commons-Lizenz CC0 1.0 Universal'}], 'provider': {'id': 'http://lobid.org/organisations/DE-292#!', 'label': 'lobid Organisation'}, 'sourceOrganization': {'id': 'http://lobid.org/organisations/DE-82#!', 'label': 'lobid Organisation'}, 'label': 'Webseite der hbz-Ressource HT014682026'}, '@context': 'http://lobid.org/resources/context.jsonld', 'id': 'http://lobid.org/resources/HT014682026#!'}\n"
     ]
    }
   ],
   "source": [
    "print(data)"
   ]
  },
  {
   "cell_type": "code",
   "execution_count": 26,
   "metadata": {},
   "outputs": [
    {
     "name": "stdout",
     "output_type": "stream",
     "text": [
      "{\n",
      "  \"type\": [\n",
      "    \"BibliographicResource\",\n",
      "    \"Book\"\n",
      "  ],\n",
      "  \"contribution\": [\n",
      "    {\n",
      "      \"type\": [\n",
      "        \"Contribution\"\n",
      "      ],\n",
      "      \"agent\": {\n",
      "        \"id\": \"https://d-nb.info/gnd/115539778\",\n",
      "        \"type\": [\n",
      "          \"Person\"\n",
      "        ],\n",
      "        \"label\": \"Hecken, Thomas\",\n",
      "        \"dateOfBirth\": \"1964\",\n",
      "        \"gndIdentifier\": \"115539778\"\n",
      "      },\n",
      "      \"role\": {\n",
      "        \"id\": \"http://id.loc.gov/vocabulary/relators/cre\",\n",
      "        \"label\": \"Autor/in\"\n",
      "      }\n",
      "    }\n",
      "  ],\n",
      "  \"extent\": \"218 S.\",\n",
      "  \"hasItem\": [\n",
      "    {\n",
      "      \"id\": \"http://lobid.org/items/HT014682026:DE-708:OCW%2FHECK#!\",\n",
      "      \"type\": [\n",
      "        \"Item\"\n",
      "      ],\n",
      "      \"heldBy\": {\n",
      "        \"id\": \"http://lobid.org/organisations/DE-708#!\",\n",
      "        \"label\": \"lobid Organisation\"\n",
      "      },\n",
      "      \"note\": \"00\",\n",
      "      \"callNumber\": \"OCW/HECK\",\n",
      "      \"label\": \"OCW/HECK\"\n",
      "    },\n",
      "    {\n",
      "      \"id\": \"http://lobid.org/items/HT014682026:DE-361:CQ950%20H448#!\",\n",
      "      \"type\": [\n",
      "        \"Item\"\n",
      "      ],\n",
      "      \"heldBy\": {\n",
      "        \"id\": \"http://lobid.org/organisations/DE-361#!\",\n",
      "        \"label\": \"lobid Organisation\"\n",
      "      },\n",
      "      \"note\": \"00000014\",\n",
      "      \"callNumber\": \"CQ950 H448\",\n",
      "      \"label\": \"CQ950 H448\"\n",
      "    },\n",
      "    {\n",
      "      \"id\": \"http://lobid.org/items/HT014682026:DE-82:LF1565#!\",\n",
      "      \"type\": [\n",
      "        \"Item\"\n",
      "      ],\n",
      "      \"heldBy\": {\n",
      "        \"id\": \"http://lobid.org/organisations/DE-82#!\",\n",
      "        \"label\": \"lobid Organisation\"\n",
      "      },\n",
      "      \"note\": \"00000000\",\n",
      "      \"callNumber\": \"LF1565\",\n",
      "      \"label\": \"LF1565\"\n",
      "    },\n",
      "    {\n",
      "      \"id\": \"http://lobid.org/items/HT014682026:DE-5-7:H%20439%2F6%20d#!\",\n",
      "      \"type\": [\n",
      "        \"Item\"\n",
      "      ],\n",
      "      \"heldBy\": {\n",
      "        \"id\": \"http://lobid.org/organisations/DE-5-7#!\",\n",
      "        \"label\": \"lobid Organisation\"\n",
      "      },\n",
      "      \"note\": \"00058000\",\n",
      "      \"callNumber\": \"H 439/6 d\",\n",
      "      \"label\": \"H 439/6 d\"\n",
      "    },\n",
      "    {\n",
      "      \"id\": \"http://lobid.org/items/HT014682026:DE-Bm3-2:AB%20314%2F3#!\",\n",
      "      \"type\": [\n",
      "        \"Item\"\n",
      "      ],\n",
      "      \"heldBy\": {\n",
      "        \"id\": \"http://lobid.org/organisations/DE-Bm3-2#!\",\n",
      "        \"label\": \"lobid Organisation\"\n",
      "      },\n",
      "      \"note\": \"F\",\n",
      "      \"callNumber\": \"AB 314/3\",\n",
      "      \"label\": \"AB 314/3\"\n",
      "    },\n",
      "    {\n",
      "      \"id\": \"http://lobid.org/items/HT014682026:DE-294:CXB9423#!\",\n",
      "      \"type\": [\n",
      "        \"Item\"\n",
      "      ],\n",
      "      \"heldBy\": {\n",
      "        \"id\": \"http://lobid.org/organisations/DE-294#!\",\n",
      "        \"label\": \"lobid Organisation\"\n",
      "      },\n",
      "      \"note\": \"00000013\",\n",
      "      \"callNumber\": \"CXB9423\",\n",
      "      \"label\": \"CXB9423\"\n",
      "    },\n",
      "    {\n",
      "      \"id\": \"http://lobid.org/items/HT014682026:DE-467:01AGPP1053#!\",\n",
      "      \"type\": [\n",
      "        \"Item\"\n",
      "      ],\n",
      "      \"heldBy\": {\n",
      "        \"id\": \"http://lobid.org/organisations/DE-467#!\",\n",
      "        \"label\": \"lobid Organisation\"\n",
      "      },\n",
      "      \"note\": \"H4\",\n",
      "      \"callNumber\": \"01AGPP1053\",\n",
      "      \"label\": \"01AGPP1053\"\n",
      "    },\n",
      "    {\n",
      "      \"id\": \"http://lobid.org/items/HT014682026:DE-294-61:K%20Gf%20II%20311.1#!\",\n",
      "      \"type\": [\n",
      "        \"Item\"\n",
      "      ],\n",
      "      \"heldBy\": {\n",
      "        \"id\": \"http://lobid.org/organisations/DE-294-61#!\",\n",
      "        \"label\": \"lobid Organisation\"\n",
      "      },\n",
      "      \"note\": \"00061000\",\n",
      "      \"callNumber\": \"K Gf II 311.1\",\n",
      "      \"label\": \"K Gf II 311.1\"\n",
      "    },\n",
      "    {\n",
      "      \"id\": \"http://lobid.org/items/HT014682026:DE-6-248:Ir%20455,18#!\",\n",
      "      \"type\": [\n",
      "        \"Item\"\n",
      "      ],\n",
      "      \"heldBy\": {\n",
      "        \"id\": \"http://lobid.org/organisations/DE-6-248#!\",\n",
      "        \"label\": \"lobid Organisation\"\n",
      "      },\n",
      "      \"note\": \"00016001\",\n",
      "      \"callNumber\": \"Ir 455,18\",\n",
      "      \"label\": \"Ir 455,18\"\n",
      "    },\n",
      "    {\n",
      "      \"id\": \"http://lobid.org/items/HT014682026:DE-290:D%2036043#!\",\n",
      "      \"type\": [\n",
      "        \"Item\"\n",
      "      ],\n",
      "      \"heldBy\": {\n",
      "        \"id\": \"http://lobid.org/organisations/DE-290#!\",\n",
      "        \"label\": \"lobid Organisation\"\n",
      "      },\n",
      "      \"note\": \"00000001\",\n",
      "      \"callNumber\": \"D 36043\",\n",
      "      \"label\": \"D 36043\"\n",
      "    },\n",
      "    {\n",
      "      \"id\": \"http://lobid.org/items/HT014682026:DE-465:OHU2143#!\",\n",
      "      \"type\": [\n",
      "        \"Item\"\n",
      "      ],\n",
      "      \"heldBy\": {\n",
      "        \"id\": \"http://lobid.org/organisations/DE-465#!\",\n",
      "        \"label\": \"lobid Organisation\"\n",
      "      },\n",
      "      \"note\": \"E11\",\n",
      "      \"callNumber\": \"OHU2143\",\n",
      "      \"label\": \"OHU2143\"\n",
      "    },\n",
      "    {\n",
      "      \"id\": \"http://lobid.org/items/HT014682026:DE-61:alge975.h448#!\",\n",
      "      \"type\": [\n",
      "        \"Item\"\n",
      "      ],\n",
      "      \"heldBy\": {\n",
      "        \"id\": \"http://lobid.org/organisations/DE-61#!\",\n",
      "        \"label\": \"lobid Organisation\"\n",
      "      },\n",
      "      \"note\": \"01\",\n",
      "      \"callNumber\": \"alge975.h448\",\n",
      "      \"label\": \"alge975.h448\"\n",
      "    }\n",
      "  ],\n",
      "  \"responsibilityStatement\": [\n",
      "    \"Thomas Hecken\"\n",
      "  ],\n",
      "  \"description\": [\n",
      "    {\n",
      "      \"id\": \"http://deposit.dnb.de/cgi-bin/dokserv?id=2764211&prov=M&dok_var=1&dok_ext=htm\",\n",
      "      \"label\": \"dokserv?id=2764211&prov=M&dok_var=1&dok_ext=htm\"\n",
      "    }\n",
      "  ],\n",
      "  \"language\": [\n",
      "    {\n",
      "      \"id\": \"http://id.loc.gov/vocabulary/iso639-2/deu\",\n",
      "      \"label\": \"Deutsch\"\n",
      "    }\n",
      "  ],\n",
      "  \"medium\": [\n",
      "    {\n",
      "      \"id\": \"http://rdaregistry.info/termList/RDAproductionMethod/1010\",\n",
      "      \"label\": \"Print\"\n",
      "    }\n",
      "  ],\n",
      "  \"subject\": [\n",
      "    {\n",
      "      \"type\": [\n",
      "        \"ComplexSubject\"\n",
      "      ],\n",
      "      \"componentList\": [\n",
      "        {\n",
      "          \"id\": \"https://d-nb.info/gnd/4130375-1\",\n",
      "          \"type\": [\n",
      "            \"SubjectHeading\"\n",
      "          ],\n",
      "          \"source\": {\n",
      "            \"id\": \"https://d-nb.info/gnd/7749153-1\",\n",
      "            \"label\": \"Gemeinsame Normdatei (GND)\"\n",
      "          },\n",
      "          \"label\": \"Gegenkultur\",\n",
      "          \"gndIdentifier\": \"4130375-1\"\n",
      "        },\n",
      "        {\n",
      "          \"type\": [\n",
      "            \"SubjectHeading\"\n",
      "          ],\n",
      "          \"label\": \"Geschichte 1950-1970\"\n",
      "        }\n",
      "      ],\n",
      "      \"label\": \"Gegenkultur | Geschichte 1950-1970\"\n",
      "    }\n",
      "  ],\n",
      "  \"tableOfContents\": [\n",
      "    {\n",
      "      \"id\": \"http://digitale-objekte.hbz-nrw.de/storage/2007/11/26/file_77/2210699.pdf\",\n",
      "      \"label\": \"2210699.pdf\"\n",
      "    }\n",
      "  ],\n",
      "  \"title\": \"Gegenkultur und Avantgarde 1950 - 1970\",\n",
      "  \"hbzId\": \"HT014682026\",\n",
      "  \"subjectAltLabel\": [\n",
      "    \"Alternative Kultur (Gegenkultur)\",\n",
      "    \"Alternativkultur (Gegenkultur)\"\n",
      "  ],\n",
      "  \"isbn\": [\n",
      "    \"3772081576\",\n",
      "    \"9783772081576\"\n",
      "  ],\n",
      "  \"oclcNumber\": [\n",
      "    \"181535840\"\n",
      "  ],\n",
      "  \"otherTitleInformation\": [\n",
      "    \"Situationisten, Beatniks, 68er\"\n",
      "  ],\n",
      "  \"publication\": [\n",
      "    {\n",
      "      \"type\": [\n",
      "        \"PublicationEvent\"\n",
      "      ],\n",
      "      \"location\": \"T\\u00fcbingen\",\n",
      "      \"publishedBy\": \"Francke\",\n",
      "      \"startDate\": \"2006\"\n",
      "    }\n",
      "  ],\n",
      "  \"sameAs\": [\n",
      "    {\n",
      "      \"id\": \"http://worldcat.org/oclc/181535840\",\n",
      "      \"label\": \"181535840\"\n",
      "    },\n",
      "    {\n",
      "      \"id\": \"http://hub.culturegraph.org/resource/HBZ-HT014682026\",\n",
      "      \"label\": \"Culturegraph Ressource\"\n",
      "    }\n",
      "  ],\n",
      "  \"describedBy\": {\n",
      "    \"id\": \"http://lobid.org/resources/HT014682026\",\n",
      "    \"type\": [\n",
      "      \"BibliographicDescription\"\n",
      "    ],\n",
      "    \"modifiedBy\": {\n",
      "      \"id\": \"http://lobid.org/organisations/DE-467#!\",\n",
      "      \"label\": \"lobid Organisation\"\n",
      "    },\n",
      "    \"dateCreated\": \"20060323\",\n",
      "    \"dateModified\": \"20060427\",\n",
      "    \"inDataset\": {\n",
      "      \"id\": \"http://lobid.org/resources/dataset#!\",\n",
      "      \"label\": \"lobid-resources \\u2013 Der hbz-Verbundkatalog als Linked Open Data\"\n",
      "    },\n",
      "    \"resultOf\": {\n",
      "      \"type\": [\n",
      "        \"CreateAction\"\n",
      "      ],\n",
      "      \"endTime\": \"2020-06-07T06:46:14\",\n",
      "      \"instrument\": {\n",
      "        \"id\": \"https://github.com/hbz/lobid-resources\",\n",
      "        \"type\": [\n",
      "          \"SoftwareApplication\"\n",
      "        ],\n",
      "        \"label\": \"Software lobid-resources\"\n",
      "      },\n",
      "      \"object\": {\n",
      "        \"id\": \"http://lobid.org/hbz01/HT014682026\",\n",
      "        \"type\": [\n",
      "          \"DataFeedItem\"\n",
      "        ],\n",
      "        \"inDataset\": {\n",
      "          \"id\": \"https://datahub.io/dataset/hbz_unioncatalog\",\n",
      "          \"label\": \"hbz_unioncatalog\"\n",
      "        },\n",
      "        \"label\": \"hbz-Ressource HT014682026 im Exportformat MAB2-XML\"\n",
      "      }\n",
      "    },\n",
      "    \"license\": [\n",
      "      {\n",
      "        \"id\": \"http://creativecommons.org/publicdomain/zero/1.0\",\n",
      "        \"label\": \"Creative Commons-Lizenz CC0 1.0 Universal\"\n",
      "      }\n",
      "    ],\n",
      "    \"provider\": {\n",
      "      \"id\": \"http://lobid.org/organisations/DE-292#!\",\n",
      "      \"label\": \"lobid Organisation\"\n",
      "    },\n",
      "    \"sourceOrganization\": {\n",
      "      \"id\": \"http://lobid.org/organisations/DE-82#!\",\n",
      "      \"label\": \"lobid Organisation\"\n",
      "    },\n",
      "    \"label\": \"Webseite der hbz-Ressource HT014682026\"\n",
      "  },\n",
      "  \"@context\": \"http://lobid.org/resources/context.jsonld\",\n",
      "  \"id\": \"http://lobid.org/resources/HT014682026#!\"\n",
      "}\n"
     ]
    }
   ],
   "source": [
    "print(json.dumps(data, indent=2))"
   ]
  },
  {
   "cell_type": "code",
   "execution_count": 27,
   "metadata": {},
   "outputs": [
    {
     "name": "stdout",
     "output_type": "stream",
     "text": [
      "dict_keys(['type', 'contribution', 'extent', 'hasItem', 'responsibilityStatement', 'description', 'language', 'medium', 'subject', 'tableOfContents', 'title', 'hbzId', 'subjectAltLabel', 'isbn', 'oclcNumber', 'otherTitleInformation', 'publication', 'sameAs', 'describedBy', '@context', 'id'])\n"
     ]
    }
   ],
   "source": [
    "print(data.keys())"
   ]
  },
  {
   "cell_type": "code",
   "execution_count": 28,
   "metadata": {},
   "outputs": [
    {
     "name": "stdout",
     "output_type": "stream",
     "text": [
      "<class 'list'>\n",
      "12\n"
     ]
    }
   ],
   "source": [
    "items = data['hasItem']\n",
    "print(type(items))\n",
    "print(len(items))"
   ]
  },
  {
   "cell_type": "code",
   "execution_count": 33,
   "metadata": {},
   "outputs": [
    {
     "ename": "SyntaxError",
     "evalue": "invalid syntax (<ipython-input-33-f9178b9bbe97>, line 1)",
     "output_type": "error",
     "traceback": [
      "\u001b[1;36m  File \u001b[1;32m\"<ipython-input-33-f9178b9bbe97>\"\u001b[1;36m, line \u001b[1;32m1\u001b[0m\n\u001b[1;33m    if owner in items(len(items)) > 1\u001b[0m\n\u001b[1;37m                                     ^\u001b[0m\n\u001b[1;31mSyntaxError\u001b[0m\u001b[1;31m:\u001b[0m invalid syntax\n"
     ]
    }
   ],
   "source": [
    "if owner in items(len(items)) > 1\n",
    "    print(\"True\")\n",
    "else\n",
    "    print(\"False\")"
   ]
  },
  {
   "cell_type": "code",
   "execution_count": 34,
   "metadata": {},
   "outputs": [
    {
     "ename": "SyntaxError",
     "evalue": "invalid syntax (<ipython-input-34-27c8c1524410>, line 1)",
     "output_type": "error",
     "traceback": [
      "\u001b[1;36m  File \u001b[1;32m\"<ipython-input-34-27c8c1524410>\"\u001b[1;36m, line \u001b[1;32m1\u001b[0m\n\u001b[1;33m    if items in data['hasItem'] > 1\u001b[0m\n\u001b[1;37m                                   ^\u001b[0m\n\u001b[1;31mSyntaxError\u001b[0m\u001b[1;31m:\u001b[0m invalid syntax\n"
     ]
    }
   ],
   "source": [
    "if items in data['hasItem'] > 1\n",
    "    print(\"True\")\n",
    "else\n",
    "    print(\"False\")"
   ]
  },
  {
   "cell_type": "code",
   "execution_count": null,
   "metadata": {},
   "outputs": [],
   "source": []
  }
 ],
 "metadata": {
  "kernelspec": {
   "display_name": "Python 3",
   "language": "python",
   "name": "python3"
  },
  "language_info": {
   "codemirror_mode": {
    "name": "ipython",
    "version": 3
   },
   "file_extension": ".py",
   "mimetype": "text/x-python",
   "name": "python",
   "nbconvert_exporter": "python",
   "pygments_lexer": "ipython3",
   "version": "3.7.4"
  }
 },
 "nbformat": 4,
 "nbformat_minor": 2
}
