{
 "cells": [
  {
   "cell_type": "markdown",
   "metadata": {},
   "source": [
    "##### requests Library importieren"
   ]
  },
  {
   "cell_type": "code",
   "execution_count": 1,
   "metadata": {},
   "outputs": [],
   "source": [
    "import requests"
   ]
  },
  {
   "cell_type": "markdown",
   "metadata": {},
   "source": [
    "##### HBZ-Abfrage nach einzelnem Titel über spezifische HT-Nummer"
   ]
  },
  {
   "cell_type": "code",
   "execution_count": 2,
   "metadata": {},
   "outputs": [],
   "source": [
    "r =requests.get('https://lobid.org/resources/HT013448179')"
   ]
  },
  {
   "cell_type": "markdown",
   "metadata": {},
   "source": [
    "##### Abfrage validieren"
   ]
  },
  {
   "cell_type": "code",
   "execution_count": 3,
   "metadata": {},
   "outputs": [
    {
     "name": "stdout",
     "output_type": "stream",
     "text": [
      "<Response [200]>\n"
     ]
    }
   ],
   "source": [
    "print(r)"
   ]
  },
  {
   "cell_type": "code",
   "execution_count": 4,
   "metadata": {},
   "outputs": [
    {
     "data": {
      "text/plain": [
       "requests.models.Response"
      ]
     },
     "execution_count": 4,
     "metadata": {},
     "output_type": "execute_result"
    }
   ],
   "source": [
    "type(r)"
   ]
  },
  {
   "cell_type": "code",
   "execution_count": 5,
   "metadata": {},
   "outputs": [
    {
     "data": {
      "text/plain": [
       "200"
      ]
     },
     "execution_count": 5,
     "metadata": {},
     "output_type": "execute_result"
    }
   ],
   "source": [
    "r.status_code"
   ]
  },
  {
   "cell_type": "markdown",
   "metadata": {},
   "source": [
    "##### headers anzeigen"
   ]
  },
  {
   "cell_type": "code",
   "execution_count": 6,
   "metadata": {},
   "outputs": [
    {
     "data": {
      "text/plain": [
       "{'Date': 'Wed, 03 Jun 2020 12:20:03 GMT', 'Server': 'Apache/2.4.10 (Linux/SUSE)', 'Content-Type': 'application/json; charset=utf-8', 'Access-Control-Allow-Origin': '*', 'Vary': 'Accept-Encoding', 'Content-Encoding': 'gzip', 'Content-Length': '1976', 'Keep-Alive': 'timeout=15, max=512', 'Connection': 'Keep-Alive'}"
      ]
     },
     "execution_count": 6,
     "metadata": {},
     "output_type": "execute_result"
    }
   ],
   "source": [
    "r.headers"
   ]
  },
  {
   "cell_type": "markdown",
   "metadata": {},
   "source": [
    "##### content type anzeigen"
   ]
  },
  {
   "cell_type": "code",
   "execution_count": 7,
   "metadata": {},
   "outputs": [
    {
     "data": {
      "text/plain": [
       "'application/json; charset=utf-8'"
      ]
     },
     "execution_count": 7,
     "metadata": {},
     "output_type": "execute_result"
    }
   ],
   "source": [
    "r.headers['Content-Type']"
   ]
  },
  {
   "cell_type": "markdown",
   "metadata": {},
   "source": [
    "##### Ergebnis der Abfrage anzeigen"
   ]
  },
  {
   "cell_type": "code",
   "execution_count": 8,
   "metadata": {},
   "outputs": [
    {
     "data": {
      "text/plain": [
       "'{\\n  \"type\" : [ \"BibliographicResource\", \"Book\" ],\\n  \"contribution\" : [ {\\n    \"type\" : [ \"Contribution\" ],\\n    \"agent\" : {\\n      \"id\" : \"https://d-nb.info/gnd/13698925X\",\\n      \"type\" : [ \"Person\" ],\\n      \"label\" : \"Theis, Thomas\",\\n      \"altLabel\" : \"Theis, Thomas-Michael\",\\n      \"dateOfBirth\" : \"1960\",\\n      \"gndIdentifier\" : \"13698925X\"\\n    },\\n    \"role\" : {\\n      \"id\" : \"http://id.loc.gov/vocabulary/relators/cre\",\\n      \"label\" : \"Autor/in\"\\n    }\\n  } ],\\n  \"extent\" : \"480 S. : Ill.\",\\n  \"hasItem\" : [ {\\n    \"id\" : \"http://lobid.org/items/HT013448179:DE-6:3H%2072477-1#!\",\\n    \"type\" : [ \"Item\" ],\\n    \"heldBy\" : {\\n      \"id\" : \"http://lobid.org/organisations/DE-6#!\",\\n      \"label\" : \"lobid Organisation\"\\n    },\\n    \"note\" : \"00000040\",\\n    \"callNumber\" : \"3H 72477-1\",\\n    \"label\" : \"3H 72477-1\"\\n  }, {\\n    \"id\" : \"http://lobid.org/items/HT013448179:DE-82-101:101:021026#!\",\\n    \"type\" : [ \"Item\" ],\\n    \"heldBy\" : {\\n      \"id\" : \"http://lobid.org/organisations/DE-82-101#!\",\\n      \"label\" : \"lobid Organisation\"\\n    },\\n    \"note\" : \"00101031\",\\n    \"callNumber\" : \"101:021026\",\\n    \"label\" : \"101:021026\"\\n  }, {\\n    \"id\" : \"http://lobid.org/items/HT013448179:DE-929:2003%2F1321#!\",\\n    \"type\" : [ \"Item\" ],\\n    \"heldBy\" : {\\n      \"id\" : \"http://lobid.org/organisations/DE-929#!\",\\n      \"label\" : \"lobid Organisation\"\\n    },\\n    \"note\" : \"00000000\",\\n    \"callNumber\" : \"2003/1321\",\\n    \"label\" : \"2003/1321\"\\n  }, {\\n    \"id\" : \"http://lobid.org/items/HT013448179:DE-467:80TYII1418-CDR#!\",\\n    \"type\" : [ \"Item\" ],\\n    \"heldBy\" : {\\n      \"id\" : \"http://lobid.org/organisations/DE-467#!\",\\n      \"label\" : \"lobid Organisation\"\\n    },\\n    \"note\" : \"H_INF\",\\n    \"callNumber\" : \"80TYII1418-CDR\",\\n    \"label\" : \"80TYII1418-CDR\"\\n  }, {\\n    \"id\" : \"http://lobid.org/items/HT013448179:DE-708:TXPZ%2FTHE#!\",\\n    \"type\" : [ \"Item\" ],\\n    \"heldBy\" : {\\n      \"id\" : \"http://lobid.org/organisations/DE-708#!\",\\n      \"label\" : \"lobid Organisation\"\\n    },\\n    \"note\" : \"12\",\\n    \"callNumber\" : \"TXPZ/THE\",\\n    \"label\" : \"TXPZ/THE\"\\n  }, {\\n    \"id\" : \"http://lobid.org/items/HT013448179:DE-1010:01TYD761%2B1#!\",\\n    \"type\" : [ \"Item\" ],\\n    \"heldBy\" : {\\n      \"id\" : \"http://lobid.org/organisations/DE-1010#!\",\\n      \"label\" : \"lobid Organisation\"\\n    },\\n    \"note\" : \"GE\",\\n    \"callNumber\" : \"01TYD761+1\",\\n    \"label\" : \"01TYD761+1\"\\n  }, {\\n    \"id\" : \"http://lobid.org/items/HT013448179:DE-467:51TYII1418#!\",\\n    \"type\" : [ \"Item\" ],\\n    \"heldBy\" : {\\n      \"id\" : \"http://lobid.org/organisations/DE-467#!\",\\n      \"label\" : \"lobid Organisation\"\\n    },\\n    \"note\" : \"H4\",\\n    \"callNumber\" : \"51TYII1418\",\\n    \"label\" : \"51TYII1418\"\\n  }, {\\n    \"id\" : \"http://lobid.org/items/HT013448179:DE-38-006:006%2F005.133%2FPython%2FThei15%2F2#!\",\\n    \"type\" : [ \"Item\" ],\\n    \"heldBy\" : {\\n      \"id\" : \"http://lobid.org/organisations/DE-38-006#!\",\\n      \"label\" : \"lobid Organisation\"\\n    },\\n    \"note\" : \"00016006\",\\n    \"callNumber\" : \"006/005.133/Python/Thei15/2\",\\n    \"label\" : \"006/005.133/Python/Thei15/2\"\\n  }, {\\n    \"id\" : \"http://lobid.org/items/HT013448179:DE-1010:01TYD761#!\",\\n    \"type\" : [ \"Item\" ],\\n    \"heldBy\" : {\\n      \"id\" : \"http://lobid.org/organisations/DE-1010#!\",\\n      \"label\" : \"lobid Organisation\"\\n    },\\n    \"note\" : \"GE\",\\n    \"callNumber\" : \"01TYD761\",\\n    \"label\" : \"01TYD761\"\\n  }, {\\n    \"id\" : \"http://lobid.org/items/HT013448179:DE-Due62:11%20TYD%20111#!\",\\n    \"type\" : [ \"Item\" ],\\n    \"heldBy\" : {\\n      \"id\" : \"http://lobid.org/organisations/DE-Due62#!\",\\n      \"label\" : \"lobid Organisation\"\\n    },\\n    \"note\" : \"cdd\",\\n    \"callNumber\" : \"11 TYD 111\",\\n    \"label\" : \"11 TYD 111\"\\n  }, {\\n    \"id\" : \"http://lobid.org/items/HT013448179:DE-467:88TYII1418#!\",\\n    \"type\" : [ \"Item\" ],\\n    \"heldBy\" : {\\n      \"id\" : \"http://lobid.org/organisations/DE-467#!\",\\n      \"label\" : \"lobid Organisation\"\\n    },\\n    \"note\" : \"88\",\\n    \"callNumber\" : \"88TYII1418\",\\n    \"label\" : \"88TYII1418\"\\n  }, {\\n    \"id\" : \"http://lobid.org/items/HT013448179:DE-467:88TYII1418-CDR#!\",\\n    \"type\" : [ \"Item\" ],\\n    \"heldBy\" : {\\n      \"id\" : \"http://lobid.org/organisations/DE-467#!\",\\n      \"label\" : \"lobid Organisation\"\\n    },\\n    \"note\" : \"88\",\\n    \"callNumber\" : \"88TYII1418-CDR\",\\n    \"label\" : \"88TYII1418-CDR\"\\n  } ],\\n  \"responsibilityStatement\" : [ \"Thomas Theis\" ],\\n  \"language\" : [ {\\n    \"id\" : \"http://id.loc.gov/vocabulary/iso639-2/deu\",\\n    \"label\" : \"Deutsch\"\\n  } ],\\n  \"medium\" : [ {\\n    \"id\" : \"http://rdaregistry.info/termList/RDAproductionMethod/1010\",\\n    \"label\" : \"Print\"\\n  } ],\\n  \"subject\" : [ {\\n    \"type\" : [ \"ComplexSubject\" ],\\n    \"componentList\" : [ {\\n      \"id\" : \"https://d-nb.info/gnd/4559381-4\",\\n      \"type\" : [ \"SubjectHeading\" ],\\n      \"source\" : {\\n        \"id\" : \"https://d-nb.info/gnd/7749153-1\",\\n        \"label\" : \"Gemeinsame Normdatei (GND)\"\\n      },\\n      \"label\" : \"MySQL\",\\n      \"gndIdentifier\" : \"4559381-4\"\\n    } ],\\n    \"label\" : \"MySQL\"\\n  }, {\\n    \"type\" : [ \"ComplexSubject\" ],\\n    \"componentList\" : [ {\\n      \"id\" : \"https://d-nb.info/gnd/4373477-7\",\\n      \"type\" : [ \"SubjectHeading\" ],\\n      \"source\" : {\\n        \"id\" : \"https://d-nb.info/gnd/7749153-1\",\\n        \"label\" : \"Gemeinsame Normdatei (GND)\"\\n      },\\n      \"label\" : \"HTML\",\\n      \"gndIdentifier\" : \"4373477-7\"\\n    } ],\\n    \"label\" : \"HTML\"\\n  }, {\\n    \"id\" : \"https://w3id.org/lobid/rpb2#n820\",\\n    \"source\" : {\\n      \"id\" : \"https://w3id.org/lobid/rpb2\",\\n      \"label\" : \"RPB-Sachgruppen und Zusätze\"\\n    },\\n    \"notation\" : \"820\",\\n    \"label\" : \"Informatik, Kybernetik\"\\n  }, {\\n    \"type\" : [ \"ComplexSubject\" ],\\n    \"componentList\" : [ {\\n      \"id\" : \"https://d-nb.info/gnd/4647484-5\",\\n      \"type\" : [ \"SubjectHeading\" ],\\n      \"source\" : {\\n        \"id\" : \"https://d-nb.info/gnd/7749153-1\",\\n        \"label\" : \"Gemeinsame Normdatei (GND)\"\\n      },\\n      \"label\" : \"Zope, Programm\",\\n      \"gndIdentifier\" : \"4647484-5\"\\n    } ],\\n    \"label\" : \"Zope, Programm\"\\n  }, {\\n    \"type\" : [ \"ComplexSubject\" ],\\n    \"componentList\" : [ {\\n      \"id\" : \"https://d-nb.info/gnd/4700085-5\",\\n      \"type\" : [ \"SubjectHeading\" ],\\n      \"source\" : {\\n        \"id\" : \"https://d-nb.info/gnd/7749153-1\",\\n        \"label\" : \"Gemeinsame Normdatei (GND)\"\\n      },\\n      \"label\" : \"Python 2.2.1\",\\n      \"gndIdentifier\" : \"4700085-5\"\\n    } ],\\n    \"label\" : \"Python 2.2.1\"\\n  } ],\\n  \"title\" : \"Einstieg in Python\",\\n  \"hbzId\" : \"HT013448179\",\\n  \"isPartOf\" : [ {\\n    \"type\" : [ \"IsPartOfRelation\" ],\\n    \"hasSuperordinate\" : [ {\\n      \"label\" : \"Galileo computing\"\\n    } ]\\n  } ],\\n  \"subjectAltLabel\" : [ \"Z Object Publishing Environment\", \"Hypertext Markup Language\" ],\\n  \"edition\" : [ \"1. Aufl.\" ],\\n  \"isbn\" : [ \"9783898422277\", \"3898422275\" ],\\n  \"oclcNumber\" : [ \"76374680\" ],\\n  \"successor\" : [ {\\n    \"label\" : \"Theis, Thomas: Einstieg in Python 3\"\\n  } ],\\n  \"otherTitleInformation\" : [ \"[Zope und Python ; für Anfänger und Umsteiger ; viele Übungen und Praxisbeispiele]\" ],\\n  \"publication\" : [ {\\n    \"type\" : [ \"PublicationEvent\" ],\\n    \"location\" : \"Bonn\",\\n    \"publishedBy\" : \"Galileo Press\",\\n    \"startDate\" : \"2002\"\\n  } ],\\n  \"sameAs\" : [ {\\n    \"id\" : \"http://worldcat.org/oclc/76374680\",\\n    \"label\" : \"76374680\"\\n  }, {\\n    \"id\" : \"http://hub.culturegraph.org/resource/HBZ-HT013448179\",\\n    \"label\" : \"Culturegraph Ressource\"\\n  } ],\\n  \"describedBy\" : {\\n    \"id\" : \"http://lobid.org/resources/HT013448179\",\\n    \"type\" : [ \"BibliographicDescription\" ],\\n    \"modifiedBy\" : {\\n      \"id\" : \"http://lobid.org/organisations/DE-468#!\",\\n      \"label\" : \"lobid Organisation\"\\n    },\\n    \"dateCreated\" : \"20020913\",\\n    \"dateModified\" : \"20110421\",\\n    \"inDataset\" : {\\n      \"id\" : \"http://lobid.org/resources/dataset#!\",\\n      \"label\" : \"lobid-resources – Der hbz-Verbundkatalog als Linked Open Data\"\\n    },\\n    \"resultOf\" : {\\n      \"type\" : [ \"CreateAction\" ],\\n      \"endTime\" : \"2020-05-31T04:48:27\",\\n      \"instrument\" : {\\n        \"id\" : \"https://github.com/hbz/lobid-resources\",\\n        \"type\" : [ \"SoftwareApplication\" ],\\n        \"label\" : \"Software lobid-resources\"\\n      },\\n      \"object\" : {\\n        \"id\" : \"http://lobid.org/hbz01/HT013448179\",\\n        \"type\" : [ \"DataFeedItem\" ],\\n        \"inDataset\" : {\\n          \"id\" : \"https://datahub.io/dataset/hbz_unioncatalog\",\\n          \"label\" : \"hbz_unioncatalog\"\\n        },\\n        \"label\" : \"hbz-Ressource HT013448179 im Exportformat MAB2-XML\"\\n      }\\n    },\\n    \"license\" : [ {\\n      \"id\" : \"http://creativecommons.org/publicdomain/zero/1.0\",\\n      \"label\" : \"Creative Commons-Lizenz CC0 1.0 Universal\"\\n    } ],\\n    \"provider\" : {\\n      \"id\" : \"http://lobid.org/organisations/DE-292#!\",\\n      \"label\" : \"lobid Organisation\"\\n    },\\n    \"sourceOrganization\" : {\\n      \"id\" : \"http://lobid.org/organisations/DE-1010#!\",\\n      \"label\" : \"lobid Organisation\"\\n    },\\n    \"label\" : \"Webseite der hbz-Ressource HT013448179\"\\n  },\\n  \"@context\" : \"http://lobid.org/resources/context.jsonld\",\\n  \"id\" : \"http://lobid.org/resources/HT013448179#!\"\\n}'"
      ]
     },
     "execution_count": 8,
     "metadata": {},
     "output_type": "execute_result"
    }
   ],
   "source": [
    "r.text"
   ]
  },
  {
   "cell_type": "code",
   "execution_count": 9,
   "metadata": {},
   "outputs": [],
   "source": [
    "import json"
   ]
  },
  {
   "cell_type": "code",
   "execution_count": 12,
   "metadata": {},
   "outputs": [],
   "source": [
    "data = r.json() # das Response-Objekt bietet diese nützliche Methode an"
   ]
  },
  {
   "cell_type": "code",
   "execution_count": 13,
   "metadata": {},
   "outputs": [
    {
     "data": {
      "text/plain": [
       "dict"
      ]
     },
     "execution_count": 13,
     "metadata": {},
     "output_type": "execute_result"
    }
   ],
   "source": [
    "type(data) # Ergebnis = dict"
   ]
  },
  {
   "cell_type": "code",
   "execution_count": 14,
   "metadata": {},
   "outputs": [
    {
     "name": "stdout",
     "output_type": "stream",
     "text": [
      "{'type': ['BibliographicResource', 'Book'], 'contribution': [{'type': ['Contribution'], 'agent': {'id': 'https://d-nb.info/gnd/13698925X', 'type': ['Person'], 'label': 'Theis, Thomas', 'altLabel': 'Theis, Thomas-Michael', 'dateOfBirth': '1960', 'gndIdentifier': '13698925X'}, 'role': {'id': 'http://id.loc.gov/vocabulary/relators/cre', 'label': 'Autor/in'}}], 'extent': '480 S. : Ill.', 'hasItem': [{'id': 'http://lobid.org/items/HT013448179:DE-6:3H%2072477-1#!', 'type': ['Item'], 'heldBy': {'id': 'http://lobid.org/organisations/DE-6#!', 'label': 'lobid Organisation'}, 'note': '00000040', 'callNumber': '3H 72477-1', 'label': '3H 72477-1'}, {'id': 'http://lobid.org/items/HT013448179:DE-82-101:101:021026#!', 'type': ['Item'], 'heldBy': {'id': 'http://lobid.org/organisations/DE-82-101#!', 'label': 'lobid Organisation'}, 'note': '00101031', 'callNumber': '101:021026', 'label': '101:021026'}, {'id': 'http://lobid.org/items/HT013448179:DE-929:2003%2F1321#!', 'type': ['Item'], 'heldBy': {'id': 'http://lobid.org/organisations/DE-929#!', 'label': 'lobid Organisation'}, 'note': '00000000', 'callNumber': '2003/1321', 'label': '2003/1321'}, {'id': 'http://lobid.org/items/HT013448179:DE-467:80TYII1418-CDR#!', 'type': ['Item'], 'heldBy': {'id': 'http://lobid.org/organisations/DE-467#!', 'label': 'lobid Organisation'}, 'note': 'H_INF', 'callNumber': '80TYII1418-CDR', 'label': '80TYII1418-CDR'}, {'id': 'http://lobid.org/items/HT013448179:DE-708:TXPZ%2FTHE#!', 'type': ['Item'], 'heldBy': {'id': 'http://lobid.org/organisations/DE-708#!', 'label': 'lobid Organisation'}, 'note': '12', 'callNumber': 'TXPZ/THE', 'label': 'TXPZ/THE'}, {'id': 'http://lobid.org/items/HT013448179:DE-1010:01TYD761%2B1#!', 'type': ['Item'], 'heldBy': {'id': 'http://lobid.org/organisations/DE-1010#!', 'label': 'lobid Organisation'}, 'note': 'GE', 'callNumber': '01TYD761+1', 'label': '01TYD761+1'}, {'id': 'http://lobid.org/items/HT013448179:DE-467:51TYII1418#!', 'type': ['Item'], 'heldBy': {'id': 'http://lobid.org/organisations/DE-467#!', 'label': 'lobid Organisation'}, 'note': 'H4', 'callNumber': '51TYII1418', 'label': '51TYII1418'}, {'id': 'http://lobid.org/items/HT013448179:DE-38-006:006%2F005.133%2FPython%2FThei15%2F2#!', 'type': ['Item'], 'heldBy': {'id': 'http://lobid.org/organisations/DE-38-006#!', 'label': 'lobid Organisation'}, 'note': '00016006', 'callNumber': '006/005.133/Python/Thei15/2', 'label': '006/005.133/Python/Thei15/2'}, {'id': 'http://lobid.org/items/HT013448179:DE-1010:01TYD761#!', 'type': ['Item'], 'heldBy': {'id': 'http://lobid.org/organisations/DE-1010#!', 'label': 'lobid Organisation'}, 'note': 'GE', 'callNumber': '01TYD761', 'label': '01TYD761'}, {'id': 'http://lobid.org/items/HT013448179:DE-Due62:11%20TYD%20111#!', 'type': ['Item'], 'heldBy': {'id': 'http://lobid.org/organisations/DE-Due62#!', 'label': 'lobid Organisation'}, 'note': 'cdd', 'callNumber': '11 TYD 111', 'label': '11 TYD 111'}, {'id': 'http://lobid.org/items/HT013448179:DE-467:88TYII1418#!', 'type': ['Item'], 'heldBy': {'id': 'http://lobid.org/organisations/DE-467#!', 'label': 'lobid Organisation'}, 'note': '88', 'callNumber': '88TYII1418', 'label': '88TYII1418'}, {'id': 'http://lobid.org/items/HT013448179:DE-467:88TYII1418-CDR#!', 'type': ['Item'], 'heldBy': {'id': 'http://lobid.org/organisations/DE-467#!', 'label': 'lobid Organisation'}, 'note': '88', 'callNumber': '88TYII1418-CDR', 'label': '88TYII1418-CDR'}], 'responsibilityStatement': ['Thomas Theis'], 'language': [{'id': 'http://id.loc.gov/vocabulary/iso639-2/deu', 'label': 'Deutsch'}], 'medium': [{'id': 'http://rdaregistry.info/termList/RDAproductionMethod/1010', 'label': 'Print'}], 'subject': [{'type': ['ComplexSubject'], 'componentList': [{'id': 'https://d-nb.info/gnd/4559381-4', 'type': ['SubjectHeading'], 'source': {'id': 'https://d-nb.info/gnd/7749153-1', 'label': 'Gemeinsame Normdatei (GND)'}, 'label': 'MySQL', 'gndIdentifier': '4559381-4'}], 'label': 'MySQL'}, {'type': ['ComplexSubject'], 'componentList': [{'id': 'https://d-nb.info/gnd/4373477-7', 'type': ['SubjectHeading'], 'source': {'id': 'https://d-nb.info/gnd/7749153-1', 'label': 'Gemeinsame Normdatei (GND)'}, 'label': 'HTML', 'gndIdentifier': '4373477-7'}], 'label': 'HTML'}, {'id': 'https://w3id.org/lobid/rpb2#n820', 'source': {'id': 'https://w3id.org/lobid/rpb2', 'label': 'RPB-Sachgruppen und Zusätze'}, 'notation': '820', 'label': 'Informatik, Kybernetik'}, {'type': ['ComplexSubject'], 'componentList': [{'id': 'https://d-nb.info/gnd/4647484-5', 'type': ['SubjectHeading'], 'source': {'id': 'https://d-nb.info/gnd/7749153-1', 'label': 'Gemeinsame Normdatei (GND)'}, 'label': 'Zope, Programm', 'gndIdentifier': '4647484-5'}], 'label': 'Zope, Programm'}, {'type': ['ComplexSubject'], 'componentList': [{'id': 'https://d-nb.info/gnd/4700085-5', 'type': ['SubjectHeading'], 'source': {'id': 'https://d-nb.info/gnd/7749153-1', 'label': 'Gemeinsame Normdatei (GND)'}, 'label': 'Python 2.2.1', 'gndIdentifier': '4700085-5'}], 'label': 'Python 2.2.1'}], 'title': 'Einstieg in Python', 'hbzId': 'HT013448179', 'isPartOf': [{'type': ['IsPartOfRelation'], 'hasSuperordinate': [{'label': 'Galileo computing'}]}], 'subjectAltLabel': ['Z Object Publishing Environment', 'Hypertext Markup Language'], 'edition': ['1. Aufl.'], 'isbn': ['9783898422277', '3898422275'], 'oclcNumber': ['76374680'], 'successor': [{'label': 'Theis, Thomas: Einstieg in Python 3'}], 'otherTitleInformation': ['[Zope und Python ; für Anfänger und Umsteiger ; viele Übungen und Praxisbeispiele]'], 'publication': [{'type': ['PublicationEvent'], 'location': 'Bonn', 'publishedBy': 'Galileo Press', 'startDate': '2002'}], 'sameAs': [{'id': 'http://worldcat.org/oclc/76374680', 'label': '76374680'}, {'id': 'http://hub.culturegraph.org/resource/HBZ-HT013448179', 'label': 'Culturegraph Ressource'}], 'describedBy': {'id': 'http://lobid.org/resources/HT013448179', 'type': ['BibliographicDescription'], 'modifiedBy': {'id': 'http://lobid.org/organisations/DE-468#!', 'label': 'lobid Organisation'}, 'dateCreated': '20020913', 'dateModified': '20110421', 'inDataset': {'id': 'http://lobid.org/resources/dataset#!', 'label': 'lobid-resources – Der hbz-Verbundkatalog als Linked Open Data'}, 'resultOf': {'type': ['CreateAction'], 'endTime': '2020-05-31T04:48:27', 'instrument': {'id': 'https://github.com/hbz/lobid-resources', 'type': ['SoftwareApplication'], 'label': 'Software lobid-resources'}, 'object': {'id': 'http://lobid.org/hbz01/HT013448179', 'type': ['DataFeedItem'], 'inDataset': {'id': 'https://datahub.io/dataset/hbz_unioncatalog', 'label': 'hbz_unioncatalog'}, 'label': 'hbz-Ressource HT013448179 im Exportformat MAB2-XML'}}, 'license': [{'id': 'http://creativecommons.org/publicdomain/zero/1.0', 'label': 'Creative Commons-Lizenz CC0 1.0 Universal'}], 'provider': {'id': 'http://lobid.org/organisations/DE-292#!', 'label': 'lobid Organisation'}, 'sourceOrganization': {'id': 'http://lobid.org/organisations/DE-1010#!', 'label': 'lobid Organisation'}, 'label': 'Webseite der hbz-Ressource HT013448179'}, '@context': 'http://lobid.org/resources/context.jsonld', 'id': 'http://lobid.org/resources/HT013448179#!'}\n"
     ]
    }
   ],
   "source": [
    "print(data)"
   ]
  },
  {
   "cell_type": "code",
   "execution_count": 15,
   "metadata": {},
   "outputs": [
    {
     "name": "stdout",
     "output_type": "stream",
     "text": [
      "{\n",
      "  \"type\": [\n",
      "    \"BibliographicResource\",\n",
      "    \"Book\"\n",
      "  ],\n",
      "  \"contribution\": [\n",
      "    {\n",
      "      \"type\": [\n",
      "        \"Contribution\"\n",
      "      ],\n",
      "      \"agent\": {\n",
      "        \"id\": \"https://d-nb.info/gnd/13698925X\",\n",
      "        \"type\": [\n",
      "          \"Person\"\n",
      "        ],\n",
      "        \"label\": \"Theis, Thomas\",\n",
      "        \"altLabel\": \"Theis, Thomas-Michael\",\n",
      "        \"dateOfBirth\": \"1960\",\n",
      "        \"gndIdentifier\": \"13698925X\"\n",
      "      },\n",
      "      \"role\": {\n",
      "        \"id\": \"http://id.loc.gov/vocabulary/relators/cre\",\n",
      "        \"label\": \"Autor/in\"\n",
      "      }\n",
      "    }\n",
      "  ],\n",
      "  \"extent\": \"480 S. : Ill.\",\n",
      "  \"hasItem\": [\n",
      "    {\n",
      "      \"id\": \"http://lobid.org/items/HT013448179:DE-6:3H%2072477-1#!\",\n",
      "      \"type\": [\n",
      "        \"Item\"\n",
      "      ],\n",
      "      \"heldBy\": {\n",
      "        \"id\": \"http://lobid.org/organisations/DE-6#!\",\n",
      "        \"label\": \"lobid Organisation\"\n",
      "      },\n",
      "      \"note\": \"00000040\",\n",
      "      \"callNumber\": \"3H 72477-1\",\n",
      "      \"label\": \"3H 72477-1\"\n",
      "    },\n",
      "    {\n",
      "      \"id\": \"http://lobid.org/items/HT013448179:DE-82-101:101:021026#!\",\n",
      "      \"type\": [\n",
      "        \"Item\"\n",
      "      ],\n",
      "      \"heldBy\": {\n",
      "        \"id\": \"http://lobid.org/organisations/DE-82-101#!\",\n",
      "        \"label\": \"lobid Organisation\"\n",
      "      },\n",
      "      \"note\": \"00101031\",\n",
      "      \"callNumber\": \"101:021026\",\n",
      "      \"label\": \"101:021026\"\n",
      "    },\n",
      "    {\n",
      "      \"id\": \"http://lobid.org/items/HT013448179:DE-929:2003%2F1321#!\",\n",
      "      \"type\": [\n",
      "        \"Item\"\n",
      "      ],\n",
      "      \"heldBy\": {\n",
      "        \"id\": \"http://lobid.org/organisations/DE-929#!\",\n",
      "        \"label\": \"lobid Organisation\"\n",
      "      },\n",
      "      \"note\": \"00000000\",\n",
      "      \"callNumber\": \"2003/1321\",\n",
      "      \"label\": \"2003/1321\"\n",
      "    },\n",
      "    {\n",
      "      \"id\": \"http://lobid.org/items/HT013448179:DE-467:80TYII1418-CDR#!\",\n",
      "      \"type\": [\n",
      "        \"Item\"\n",
      "      ],\n",
      "      \"heldBy\": {\n",
      "        \"id\": \"http://lobid.org/organisations/DE-467#!\",\n",
      "        \"label\": \"lobid Organisation\"\n",
      "      },\n",
      "      \"note\": \"H_INF\",\n",
      "      \"callNumber\": \"80TYII1418-CDR\",\n",
      "      \"label\": \"80TYII1418-CDR\"\n",
      "    },\n",
      "    {\n",
      "      \"id\": \"http://lobid.org/items/HT013448179:DE-708:TXPZ%2FTHE#!\",\n",
      "      \"type\": [\n",
      "        \"Item\"\n",
      "      ],\n",
      "      \"heldBy\": {\n",
      "        \"id\": \"http://lobid.org/organisations/DE-708#!\",\n",
      "        \"label\": \"lobid Organisation\"\n",
      "      },\n",
      "      \"note\": \"12\",\n",
      "      \"callNumber\": \"TXPZ/THE\",\n",
      "      \"label\": \"TXPZ/THE\"\n",
      "    },\n",
      "    {\n",
      "      \"id\": \"http://lobid.org/items/HT013448179:DE-1010:01TYD761%2B1#!\",\n",
      "      \"type\": [\n",
      "        \"Item\"\n",
      "      ],\n",
      "      \"heldBy\": {\n",
      "        \"id\": \"http://lobid.org/organisations/DE-1010#!\",\n",
      "        \"label\": \"lobid Organisation\"\n",
      "      },\n",
      "      \"note\": \"GE\",\n",
      "      \"callNumber\": \"01TYD761+1\",\n",
      "      \"label\": \"01TYD761+1\"\n",
      "    },\n",
      "    {\n",
      "      \"id\": \"http://lobid.org/items/HT013448179:DE-467:51TYII1418#!\",\n",
      "      \"type\": [\n",
      "        \"Item\"\n",
      "      ],\n",
      "      \"heldBy\": {\n",
      "        \"id\": \"http://lobid.org/organisations/DE-467#!\",\n",
      "        \"label\": \"lobid Organisation\"\n",
      "      },\n",
      "      \"note\": \"H4\",\n",
      "      \"callNumber\": \"51TYII1418\",\n",
      "      \"label\": \"51TYII1418\"\n",
      "    },\n",
      "    {\n",
      "      \"id\": \"http://lobid.org/items/HT013448179:DE-38-006:006%2F005.133%2FPython%2FThei15%2F2#!\",\n",
      "      \"type\": [\n",
      "        \"Item\"\n",
      "      ],\n",
      "      \"heldBy\": {\n",
      "        \"id\": \"http://lobid.org/organisations/DE-38-006#!\",\n",
      "        \"label\": \"lobid Organisation\"\n",
      "      },\n",
      "      \"note\": \"00016006\",\n",
      "      \"callNumber\": \"006/005.133/Python/Thei15/2\",\n",
      "      \"label\": \"006/005.133/Python/Thei15/2\"\n",
      "    },\n",
      "    {\n",
      "      \"id\": \"http://lobid.org/items/HT013448179:DE-1010:01TYD761#!\",\n",
      "      \"type\": [\n",
      "        \"Item\"\n",
      "      ],\n",
      "      \"heldBy\": {\n",
      "        \"id\": \"http://lobid.org/organisations/DE-1010#!\",\n",
      "        \"label\": \"lobid Organisation\"\n",
      "      },\n",
      "      \"note\": \"GE\",\n",
      "      \"callNumber\": \"01TYD761\",\n",
      "      \"label\": \"01TYD761\"\n",
      "    },\n",
      "    {\n",
      "      \"id\": \"http://lobid.org/items/HT013448179:DE-Due62:11%20TYD%20111#!\",\n",
      "      \"type\": [\n",
      "        \"Item\"\n",
      "      ],\n",
      "      \"heldBy\": {\n",
      "        \"id\": \"http://lobid.org/organisations/DE-Due62#!\",\n",
      "        \"label\": \"lobid Organisation\"\n",
      "      },\n",
      "      \"note\": \"cdd\",\n",
      "      \"callNumber\": \"11 TYD 111\",\n",
      "      \"label\": \"11 TYD 111\"\n",
      "    },\n",
      "    {\n",
      "      \"id\": \"http://lobid.org/items/HT013448179:DE-467:88TYII1418#!\",\n",
      "      \"type\": [\n",
      "        \"Item\"\n",
      "      ],\n",
      "      \"heldBy\": {\n",
      "        \"id\": \"http://lobid.org/organisations/DE-467#!\",\n",
      "        \"label\": \"lobid Organisation\"\n",
      "      },\n",
      "      \"note\": \"88\",\n",
      "      \"callNumber\": \"88TYII1418\",\n",
      "      \"label\": \"88TYII1418\"\n",
      "    },\n",
      "    {\n",
      "      \"id\": \"http://lobid.org/items/HT013448179:DE-467:88TYII1418-CDR#!\",\n",
      "      \"type\": [\n",
      "        \"Item\"\n",
      "      ],\n",
      "      \"heldBy\": {\n",
      "        \"id\": \"http://lobid.org/organisations/DE-467#!\",\n",
      "        \"label\": \"lobid Organisation\"\n",
      "      },\n",
      "      \"note\": \"88\",\n",
      "      \"callNumber\": \"88TYII1418-CDR\",\n",
      "      \"label\": \"88TYII1418-CDR\"\n",
      "    }\n",
      "  ],\n",
      "  \"responsibilityStatement\": [\n",
      "    \"Thomas Theis\"\n",
      "  ],\n",
      "  \"language\": [\n",
      "    {\n",
      "      \"id\": \"http://id.loc.gov/vocabulary/iso639-2/deu\",\n",
      "      \"label\": \"Deutsch\"\n",
      "    }\n",
      "  ],\n",
      "  \"medium\": [\n",
      "    {\n",
      "      \"id\": \"http://rdaregistry.info/termList/RDAproductionMethod/1010\",\n",
      "      \"label\": \"Print\"\n",
      "    }\n",
      "  ],\n",
      "  \"subject\": [\n",
      "    {\n",
      "      \"type\": [\n",
      "        \"ComplexSubject\"\n",
      "      ],\n",
      "      \"componentList\": [\n",
      "        {\n",
      "          \"id\": \"https://d-nb.info/gnd/4559381-4\",\n",
      "          \"type\": [\n",
      "            \"SubjectHeading\"\n",
      "          ],\n",
      "          \"source\": {\n",
      "            \"id\": \"https://d-nb.info/gnd/7749153-1\",\n",
      "            \"label\": \"Gemeinsame Normdatei (GND)\"\n",
      "          },\n",
      "          \"label\": \"MySQL\",\n",
      "          \"gndIdentifier\": \"4559381-4\"\n",
      "        }\n",
      "      ],\n",
      "      \"label\": \"MySQL\"\n",
      "    },\n",
      "    {\n",
      "      \"type\": [\n",
      "        \"ComplexSubject\"\n",
      "      ],\n",
      "      \"componentList\": [\n",
      "        {\n",
      "          \"id\": \"https://d-nb.info/gnd/4373477-7\",\n",
      "          \"type\": [\n",
      "            \"SubjectHeading\"\n",
      "          ],\n",
      "          \"source\": {\n",
      "            \"id\": \"https://d-nb.info/gnd/7749153-1\",\n",
      "            \"label\": \"Gemeinsame Normdatei (GND)\"\n",
      "          },\n",
      "          \"label\": \"HTML\",\n",
      "          \"gndIdentifier\": \"4373477-7\"\n",
      "        }\n",
      "      ],\n",
      "      \"label\": \"HTML\"\n",
      "    },\n",
      "    {\n",
      "      \"id\": \"https://w3id.org/lobid/rpb2#n820\",\n",
      "      \"source\": {\n",
      "        \"id\": \"https://w3id.org/lobid/rpb2\",\n",
      "        \"label\": \"RPB-Sachgruppen und Zus\\u00e4tze\"\n",
      "      },\n",
      "      \"notation\": \"820\",\n",
      "      \"label\": \"Informatik, Kybernetik\"\n",
      "    },\n",
      "    {\n",
      "      \"type\": [\n",
      "        \"ComplexSubject\"\n",
      "      ],\n",
      "      \"componentList\": [\n",
      "        {\n",
      "          \"id\": \"https://d-nb.info/gnd/4647484-5\",\n",
      "          \"type\": [\n",
      "            \"SubjectHeading\"\n",
      "          ],\n",
      "          \"source\": {\n",
      "            \"id\": \"https://d-nb.info/gnd/7749153-1\",\n",
      "            \"label\": \"Gemeinsame Normdatei (GND)\"\n",
      "          },\n",
      "          \"label\": \"Zope, Programm\",\n",
      "          \"gndIdentifier\": \"4647484-5\"\n",
      "        }\n",
      "      ],\n",
      "      \"label\": \"Zope, Programm\"\n",
      "    },\n",
      "    {\n",
      "      \"type\": [\n",
      "        \"ComplexSubject\"\n",
      "      ],\n",
      "      \"componentList\": [\n",
      "        {\n",
      "          \"id\": \"https://d-nb.info/gnd/4700085-5\",\n",
      "          \"type\": [\n",
      "            \"SubjectHeading\"\n",
      "          ],\n",
      "          \"source\": {\n",
      "            \"id\": \"https://d-nb.info/gnd/7749153-1\",\n",
      "            \"label\": \"Gemeinsame Normdatei (GND)\"\n",
      "          },\n",
      "          \"label\": \"Python 2.2.1\",\n",
      "          \"gndIdentifier\": \"4700085-5\"\n",
      "        }\n",
      "      ],\n",
      "      \"label\": \"Python 2.2.1\"\n",
      "    }\n",
      "  ],\n",
      "  \"title\": \"Einstieg in Python\",\n",
      "  \"hbzId\": \"HT013448179\",\n",
      "  \"isPartOf\": [\n",
      "    {\n",
      "      \"type\": [\n",
      "        \"IsPartOfRelation\"\n",
      "      ],\n",
      "      \"hasSuperordinate\": [\n",
      "        {\n",
      "          \"label\": \"Galileo computing\"\n",
      "        }\n",
      "      ]\n",
      "    }\n",
      "  ],\n",
      "  \"subjectAltLabel\": [\n",
      "    \"Z Object Publishing Environment\",\n",
      "    \"Hypertext Markup Language\"\n",
      "  ],\n",
      "  \"edition\": [\n",
      "    \"1. Aufl.\"\n",
      "  ],\n",
      "  \"isbn\": [\n",
      "    \"9783898422277\",\n",
      "    \"3898422275\"\n",
      "  ],\n",
      "  \"oclcNumber\": [\n",
      "    \"76374680\"\n",
      "  ],\n",
      "  \"successor\": [\n",
      "    {\n",
      "      \"label\": \"Theis, Thomas: Einstieg in Python 3\"\n",
      "    }\n",
      "  ],\n",
      "  \"otherTitleInformation\": [\n",
      "    \"[Zope und Python ; f\\u00fcr Anf\\u00e4nger und Umsteiger ; viele \\u00dcbungen und Praxisbeispiele]\"\n",
      "  ],\n",
      "  \"publication\": [\n",
      "    {\n",
      "      \"type\": [\n",
      "        \"PublicationEvent\"\n",
      "      ],\n",
      "      \"location\": \"Bonn\",\n",
      "      \"publishedBy\": \"Galileo Press\",\n",
      "      \"startDate\": \"2002\"\n",
      "    }\n",
      "  ],\n",
      "  \"sameAs\": [\n",
      "    {\n",
      "      \"id\": \"http://worldcat.org/oclc/76374680\",\n",
      "      \"label\": \"76374680\"\n",
      "    },\n",
      "    {\n",
      "      \"id\": \"http://hub.culturegraph.org/resource/HBZ-HT013448179\",\n",
      "      \"label\": \"Culturegraph Ressource\"\n",
      "    }\n",
      "  ],\n",
      "  \"describedBy\": {\n",
      "    \"id\": \"http://lobid.org/resources/HT013448179\",\n",
      "    \"type\": [\n",
      "      \"BibliographicDescription\"\n",
      "    ],\n",
      "    \"modifiedBy\": {\n",
      "      \"id\": \"http://lobid.org/organisations/DE-468#!\",\n",
      "      \"label\": \"lobid Organisation\"\n",
      "    },\n",
      "    \"dateCreated\": \"20020913\",\n",
      "    \"dateModified\": \"20110421\",\n",
      "    \"inDataset\": {\n",
      "      \"id\": \"http://lobid.org/resources/dataset#!\",\n",
      "      \"label\": \"lobid-resources \\u2013 Der hbz-Verbundkatalog als Linked Open Data\"\n",
      "    },\n",
      "    \"resultOf\": {\n",
      "      \"type\": [\n",
      "        \"CreateAction\"\n",
      "      ],\n",
      "      \"endTime\": \"2020-05-31T04:48:27\",\n",
      "      \"instrument\": {\n",
      "        \"id\": \"https://github.com/hbz/lobid-resources\",\n",
      "        \"type\": [\n",
      "          \"SoftwareApplication\"\n",
      "        ],\n",
      "        \"label\": \"Software lobid-resources\"\n",
      "      },\n",
      "      \"object\": {\n",
      "        \"id\": \"http://lobid.org/hbz01/HT013448179\",\n",
      "        \"type\": [\n",
      "          \"DataFeedItem\"\n",
      "        ],\n",
      "        \"inDataset\": {\n",
      "          \"id\": \"https://datahub.io/dataset/hbz_unioncatalog\",\n",
      "          \"label\": \"hbz_unioncatalog\"\n",
      "        },\n",
      "        \"label\": \"hbz-Ressource HT013448179 im Exportformat MAB2-XML\"\n",
      "      }\n",
      "    },\n",
      "    \"license\": [\n",
      "      {\n",
      "        \"id\": \"http://creativecommons.org/publicdomain/zero/1.0\",\n",
      "        \"label\": \"Creative Commons-Lizenz CC0 1.0 Universal\"\n",
      "      }\n",
      "    ],\n",
      "    \"provider\": {\n",
      "      \"id\": \"http://lobid.org/organisations/DE-292#!\",\n",
      "      \"label\": \"lobid Organisation\"\n",
      "    },\n",
      "    \"sourceOrganization\": {\n",
      "      \"id\": \"http://lobid.org/organisations/DE-1010#!\",\n",
      "      \"label\": \"lobid Organisation\"\n",
      "    },\n",
      "    \"label\": \"Webseite der hbz-Ressource HT013448179\"\n",
      "  },\n",
      "  \"@context\": \"http://lobid.org/resources/context.jsonld\",\n",
      "  \"id\": \"http://lobid.org/resources/HT013448179#!\"\n",
      "}\n"
     ]
    }
   ],
   "source": [
    "print(json.dumps(data, indent=2))"
   ]
  },
  {
   "cell_type": "code",
   "execution_count": 19,
   "metadata": {},
   "outputs": [
    {
     "name": "stdout",
     "output_type": "stream",
     "text": [
      "{'@context': 'http://lobid.org/resources/context.jsonld',\n",
      " 'contribution': [{'agent': {'altLabel': 'Theis, Thomas-Michael',\n",
      "                             'dateOfBirth': '1960',\n",
      "                             'gndIdentifier': '13698925X',\n",
      "                             'id': 'https://d-nb.info/gnd/13698925X',\n",
      "                             'label': 'Theis, Thomas',\n",
      "                             'type': ['Person']},\n",
      "                   'role': {'id': 'http://id.loc.gov/vocabulary/relators/cre',\n",
      "                            'label': 'Autor/in'},\n",
      "                   'type': ['Contribution']}],\n",
      " 'describedBy': {'dateCreated': '20020913',\n",
      "                 'dateModified': '20110421',\n",
      "                 'id': 'http://lobid.org/resources/HT013448179',\n",
      "                 'inDataset': {'id': 'http://lobid.org/resources/dataset#!',\n",
      "                               'label': 'lobid-resources – Der '\n",
      "                                        'hbz-Verbundkatalog als Linked Open '\n",
      "                                        'Data'},\n",
      "                 'label': 'Webseite der hbz-Ressource HT013448179',\n",
      "                 'license': [{'id': 'http://creativecommons.org/publicdomain/zero/1.0',\n",
      "                              'label': 'Creative Commons-Lizenz CC0 1.0 '\n",
      "                                       'Universal'}],\n",
      "                 'modifiedBy': {'id': 'http://lobid.org/organisations/DE-468#!',\n",
      "                                'label': 'lobid Organisation'},\n",
      "                 'provider': {'id': 'http://lobid.org/organisations/DE-292#!',\n",
      "                              'label': 'lobid Organisation'},\n",
      "                 'resultOf': {'endTime': '2020-05-31T04:48:27',\n",
      "                              'instrument': {'id': 'https://github.com/hbz/lobid-resources',\n",
      "                                             'label': 'Software '\n",
      "                                                      'lobid-resources',\n",
      "                                             'type': ['SoftwareApplication']},\n",
      "                              'object': {'id': 'http://lobid.org/hbz01/HT013448179',\n",
      "                                         'inDataset': {'id': 'https://datahub.io/dataset/hbz_unioncatalog',\n",
      "                                                       'label': 'hbz_unioncatalog'},\n",
      "                                         'label': 'hbz-Ressource HT013448179 '\n",
      "                                                  'im Exportformat MAB2-XML',\n",
      "                                         'type': ['DataFeedItem']},\n",
      "                              'type': ['CreateAction']},\n",
      "                 'sourceOrganization': {'id': 'http://lobid.org/organisations/DE-1010#!',\n",
      "                                        'label': 'lobid Organisation'},\n",
      "                 'type': ['BibliographicDescription']},\n",
      " 'edition': ['1. Aufl.'],\n",
      " 'extent': '480 S. : Ill.',\n",
      " 'hasItem': [{'callNumber': '3H 72477-1',\n",
      "              'heldBy': {'id': 'http://lobid.org/organisations/DE-6#!',\n",
      "                         'label': 'lobid Organisation'},\n",
      "              'id': 'http://lobid.org/items/HT013448179:DE-6:3H%2072477-1#!',\n",
      "              'label': '3H 72477-1',\n",
      "              'note': '00000040',\n",
      "              'type': ['Item']},\n",
      "             {'callNumber': '101:021026',\n",
      "              'heldBy': {'id': 'http://lobid.org/organisations/DE-82-101#!',\n",
      "                         'label': 'lobid Organisation'},\n",
      "              'id': 'http://lobid.org/items/HT013448179:DE-82-101:101:021026#!',\n",
      "              'label': '101:021026',\n",
      "              'note': '00101031',\n",
      "              'type': ['Item']},\n",
      "             {'callNumber': '2003/1321',\n",
      "              'heldBy': {'id': 'http://lobid.org/organisations/DE-929#!',\n",
      "                         'label': 'lobid Organisation'},\n",
      "              'id': 'http://lobid.org/items/HT013448179:DE-929:2003%2F1321#!',\n",
      "              'label': '2003/1321',\n",
      "              'note': '00000000',\n",
      "              'type': ['Item']},\n",
      "             {'callNumber': '80TYII1418-CDR',\n",
      "              'heldBy': {'id': 'http://lobid.org/organisations/DE-467#!',\n",
      "                         'label': 'lobid Organisation'},\n",
      "              'id': 'http://lobid.org/items/HT013448179:DE-467:80TYII1418-CDR#!',\n",
      "              'label': '80TYII1418-CDR',\n",
      "              'note': 'H_INF',\n",
      "              'type': ['Item']},\n",
      "             {'callNumber': 'TXPZ/THE',\n",
      "              'heldBy': {'id': 'http://lobid.org/organisations/DE-708#!',\n",
      "                         'label': 'lobid Organisation'},\n",
      "              'id': 'http://lobid.org/items/HT013448179:DE-708:TXPZ%2FTHE#!',\n",
      "              'label': 'TXPZ/THE',\n",
      "              'note': '12',\n",
      "              'type': ['Item']},\n",
      "             {'callNumber': '01TYD761+1',\n",
      "              'heldBy': {'id': 'http://lobid.org/organisations/DE-1010#!',\n",
      "                         'label': 'lobid Organisation'},\n",
      "              'id': 'http://lobid.org/items/HT013448179:DE-1010:01TYD761%2B1#!',\n",
      "              'label': '01TYD761+1',\n",
      "              'note': 'GE',\n",
      "              'type': ['Item']},\n",
      "             {'callNumber': '51TYII1418',\n",
      "              'heldBy': {'id': 'http://lobid.org/organisations/DE-467#!',\n",
      "                         'label': 'lobid Organisation'},\n",
      "              'id': 'http://lobid.org/items/HT013448179:DE-467:51TYII1418#!',\n",
      "              'label': '51TYII1418',\n",
      "              'note': 'H4',\n",
      "              'type': ['Item']},\n",
      "             {'callNumber': '006/005.133/Python/Thei15/2',\n",
      "              'heldBy': {'id': 'http://lobid.org/organisations/DE-38-006#!',\n",
      "                         'label': 'lobid Organisation'},\n",
      "              'id': 'http://lobid.org/items/HT013448179:DE-38-006:006%2F005.133%2FPython%2FThei15%2F2#!',\n",
      "              'label': '006/005.133/Python/Thei15/2',\n",
      "              'note': '00016006',\n",
      "              'type': ['Item']},\n",
      "             {'callNumber': '01TYD761',\n",
      "              'heldBy': {'id': 'http://lobid.org/organisations/DE-1010#!',\n",
      "                         'label': 'lobid Organisation'},\n",
      "              'id': 'http://lobid.org/items/HT013448179:DE-1010:01TYD761#!',\n",
      "              'label': '01TYD761',\n",
      "              'note': 'GE',\n",
      "              'type': ['Item']},\n",
      "             {'callNumber': '11 TYD 111',\n",
      "              'heldBy': {'id': 'http://lobid.org/organisations/DE-Due62#!',\n",
      "                         'label': 'lobid Organisation'},\n",
      "              'id': 'http://lobid.org/items/HT013448179:DE-Due62:11%20TYD%20111#!',\n",
      "              'label': '11 TYD 111',\n",
      "              'note': 'cdd',\n",
      "              'type': ['Item']},\n",
      "             {'callNumber': '88TYII1418',\n",
      "              'heldBy': {'id': 'http://lobid.org/organisations/DE-467#!',\n",
      "                         'label': 'lobid Organisation'},\n",
      "              'id': 'http://lobid.org/items/HT013448179:DE-467:88TYII1418#!',\n",
      "              'label': '88TYII1418',\n",
      "              'note': '88',\n",
      "              'type': ['Item']},\n",
      "             {'callNumber': '88TYII1418-CDR',\n",
      "              'heldBy': {'id': 'http://lobid.org/organisations/DE-467#!',\n",
      "                         'label': 'lobid Organisation'},\n",
      "              'id': 'http://lobid.org/items/HT013448179:DE-467:88TYII1418-CDR#!',\n",
      "              'label': '88TYII1418-CDR',\n",
      "              'note': '88',\n",
      "              'type': ['Item']}],\n",
      " 'hbzId': 'HT013448179',\n",
      " 'id': 'http://lobid.org/resources/HT013448179#!',\n",
      " 'isPartOf': [{'hasSuperordinate': [{'label': 'Galileo computing'}],\n",
      "               'type': ['IsPartOfRelation']}],\n",
      " 'isbn': ['9783898422277', '3898422275'],\n",
      " 'language': [{'id': 'http://id.loc.gov/vocabulary/iso639-2/deu',\n",
      "               'label': 'Deutsch'}],\n",
      " 'medium': [{'id': 'http://rdaregistry.info/termList/RDAproductionMethod/1010',\n",
      "             'label': 'Print'}],\n",
      " 'oclcNumber': ['76374680'],\n",
      " 'otherTitleInformation': ['[Zope und Python ; für Anfänger und Umsteiger ; '\n",
      "                           'viele Übungen und Praxisbeispiele]'],\n",
      " 'publication': [{'location': 'Bonn',\n",
      "                  'publishedBy': 'Galileo Press',\n",
      "                  'startDate': '2002',\n",
      "                  'type': ['PublicationEvent']}],\n",
      " 'responsibilityStatement': ['Thomas Theis'],\n",
      " 'sameAs': [{'id': 'http://worldcat.org/oclc/76374680', 'label': '76374680'},\n",
      "            {'id': 'http://hub.culturegraph.org/resource/HBZ-HT013448179',\n",
      "             'label': 'Culturegraph Ressource'}],\n",
      " 'subject': [{'componentList': [{'gndIdentifier': '4559381-4',\n",
      "                                 'id': 'https://d-nb.info/gnd/4559381-4',\n",
      "                                 'label': 'MySQL',\n",
      "                                 'source': {'id': 'https://d-nb.info/gnd/7749153-1',\n",
      "                                            'label': 'Gemeinsame Normdatei '\n",
      "                                                     '(GND)'},\n",
      "                                 'type': ['SubjectHeading']}],\n",
      "              'label': 'MySQL',\n",
      "              'type': ['ComplexSubject']},\n",
      "             {'componentList': [{'gndIdentifier': '4373477-7',\n",
      "                                 'id': 'https://d-nb.info/gnd/4373477-7',\n",
      "                                 'label': 'HTML',\n",
      "                                 'source': {'id': 'https://d-nb.info/gnd/7749153-1',\n",
      "                                            'label': 'Gemeinsame Normdatei '\n",
      "                                                     '(GND)'},\n",
      "                                 'type': ['SubjectHeading']}],\n",
      "              'label': 'HTML',\n",
      "              'type': ['ComplexSubject']},\n",
      "             {'id': 'https://w3id.org/lobid/rpb2#n820',\n",
      "              'label': 'Informatik, Kybernetik',\n",
      "              'notation': '820',\n",
      "              'source': {'id': 'https://w3id.org/lobid/rpb2',\n",
      "                         'label': 'RPB-Sachgruppen und Zusätze'}},\n",
      "             {'componentList': [{'gndIdentifier': '4647484-5',\n",
      "                                 'id': 'https://d-nb.info/gnd/4647484-5',\n",
      "                                 'label': 'Zope, Programm',\n",
      "                                 'source': {'id': 'https://d-nb.info/gnd/7749153-1',\n",
      "                                            'label': 'Gemeinsame Normdatei '\n",
      "                                                     '(GND)'},\n",
      "                                 'type': ['SubjectHeading']}],\n",
      "              'label': 'Zope, Programm',\n",
      "              'type': ['ComplexSubject']},\n",
      "             {'componentList': [{'gndIdentifier': '4700085-5',\n",
      "                                 'id': 'https://d-nb.info/gnd/4700085-5',\n",
      "                                 'label': 'Python 2.2.1',\n",
      "                                 'source': {'id': 'https://d-nb.info/gnd/7749153-1',\n",
      "                                            'label': 'Gemeinsame Normdatei '\n",
      "                                                     '(GND)'},\n",
      "                                 'type': ['SubjectHeading']}],\n",
      "              'label': 'Python 2.2.1',\n",
      "              'type': ['ComplexSubject']}],\n",
      " 'subjectAltLabel': ['Z Object Publishing Environment',\n",
      "                     'Hypertext Markup Language'],\n",
      " 'successor': [{'label': 'Theis, Thomas: Einstieg in Python 3'}],\n",
      " 'title': 'Einstieg in Python',\n",
      " 'type': ['BibliographicResource', 'Book']}\n"
     ]
    }
   ],
   "source": [
    "from pprint import pprint\n",
    "pprint(data)"
   ]
  },
  {
   "cell_type": "code",
   "execution_count": 20,
   "metadata": {},
   "outputs": [
    {
     "name": "stdout",
     "output_type": "stream",
     "text": [
      "dict_keys(['type', 'contribution', 'extent', 'hasItem', 'responsibilityStatement', 'language', 'medium', 'subject', 'title', 'hbzId', 'isPartOf', 'subjectAltLabel', 'edition', 'isbn', 'oclcNumber', 'successor', 'otherTitleInformation', 'publication', 'sameAs', 'describedBy', '@context', 'id'])\n"
     ]
    }
   ],
   "source": [
    "print(data.keys()) # Anzeige der vorhandenen Keys"
   ]
  },
  {
   "cell_type": "code",
   "execution_count": 21,
   "metadata": {},
   "outputs": [
    {
     "name": "stdout",
     "output_type": "stream",
     "text": [
      "<class 'list'>\n",
      "12\n"
     ]
    }
   ],
   "source": [
    "items = data['hasItem']\n",
    "print(type(items))\n",
    "print(len(items))"
   ]
  },
  {
   "cell_type": "code",
   "execution_count": 22,
   "metadata": {},
   "outputs": [
    {
     "name": "stdout",
     "output_type": "stream",
     "text": [
      "[{'id': 'http://lobid.org/items/HT013448179:DE-6:3H%2072477-1#!', 'type': ['Item'], 'heldBy': {'id': 'http://lobid.org/organisations/DE-6#!', 'label': 'lobid Organisation'}, 'note': '00000040', 'callNumber': '3H 72477-1', 'label': '3H 72477-1'}, {'id': 'http://lobid.org/items/HT013448179:DE-82-101:101:021026#!', 'type': ['Item'], 'heldBy': {'id': 'http://lobid.org/organisations/DE-82-101#!', 'label': 'lobid Organisation'}, 'note': '00101031', 'callNumber': '101:021026', 'label': '101:021026'}, {'id': 'http://lobid.org/items/HT013448179:DE-929:2003%2F1321#!', 'type': ['Item'], 'heldBy': {'id': 'http://lobid.org/organisations/DE-929#!', 'label': 'lobid Organisation'}, 'note': '00000000', 'callNumber': '2003/1321', 'label': '2003/1321'}, {'id': 'http://lobid.org/items/HT013448179:DE-467:80TYII1418-CDR#!', 'type': ['Item'], 'heldBy': {'id': 'http://lobid.org/organisations/DE-467#!', 'label': 'lobid Organisation'}, 'note': 'H_INF', 'callNumber': '80TYII1418-CDR', 'label': '80TYII1418-CDR'}, {'id': 'http://lobid.org/items/HT013448179:DE-708:TXPZ%2FTHE#!', 'type': ['Item'], 'heldBy': {'id': 'http://lobid.org/organisations/DE-708#!', 'label': 'lobid Organisation'}, 'note': '12', 'callNumber': 'TXPZ/THE', 'label': 'TXPZ/THE'}, {'id': 'http://lobid.org/items/HT013448179:DE-1010:01TYD761%2B1#!', 'type': ['Item'], 'heldBy': {'id': 'http://lobid.org/organisations/DE-1010#!', 'label': 'lobid Organisation'}, 'note': 'GE', 'callNumber': '01TYD761+1', 'label': '01TYD761+1'}, {'id': 'http://lobid.org/items/HT013448179:DE-467:51TYII1418#!', 'type': ['Item'], 'heldBy': {'id': 'http://lobid.org/organisations/DE-467#!', 'label': 'lobid Organisation'}, 'note': 'H4', 'callNumber': '51TYII1418', 'label': '51TYII1418'}, {'id': 'http://lobid.org/items/HT013448179:DE-38-006:006%2F005.133%2FPython%2FThei15%2F2#!', 'type': ['Item'], 'heldBy': {'id': 'http://lobid.org/organisations/DE-38-006#!', 'label': 'lobid Organisation'}, 'note': '00016006', 'callNumber': '006/005.133/Python/Thei15/2', 'label': '006/005.133/Python/Thei15/2'}, {'id': 'http://lobid.org/items/HT013448179:DE-1010:01TYD761#!', 'type': ['Item'], 'heldBy': {'id': 'http://lobid.org/organisations/DE-1010#!', 'label': 'lobid Organisation'}, 'note': 'GE', 'callNumber': '01TYD761', 'label': '01TYD761'}, {'id': 'http://lobid.org/items/HT013448179:DE-Due62:11%20TYD%20111#!', 'type': ['Item'], 'heldBy': {'id': 'http://lobid.org/organisations/DE-Due62#!', 'label': 'lobid Organisation'}, 'note': 'cdd', 'callNumber': '11 TYD 111', 'label': '11 TYD 111'}, {'id': 'http://lobid.org/items/HT013448179:DE-467:88TYII1418#!', 'type': ['Item'], 'heldBy': {'id': 'http://lobid.org/organisations/DE-467#!', 'label': 'lobid Organisation'}, 'note': '88', 'callNumber': '88TYII1418', 'label': '88TYII1418'}, {'id': 'http://lobid.org/items/HT013448179:DE-467:88TYII1418-CDR#!', 'type': ['Item'], 'heldBy': {'id': 'http://lobid.org/organisations/DE-467#!', 'label': 'lobid Organisation'}, 'note': '88', 'callNumber': '88TYII1418-CDR', 'label': '88TYII1418-CDR'}]\n"
     ]
    }
   ],
   "source": [
    "print(items)"
   ]
  },
  {
   "cell_type": "code",
   "execution_count": null,
   "metadata": {},
   "outputs": [],
   "source": []
  }
 ],
 "metadata": {
  "kernelspec": {
   "display_name": "Python 3",
   "language": "python",
   "name": "python3"
  },
  "language_info": {
   "codemirror_mode": {
    "name": "ipython",
    "version": 3
   },
   "file_extension": ".py",
   "mimetype": "text/x-python",
   "name": "python",
   "nbconvert_exporter": "python",
   "pygments_lexer": "ipython3",
   "version": "3.7.4"
  }
 },
 "nbformat": 4,
 "nbformat_minor": 2
}
