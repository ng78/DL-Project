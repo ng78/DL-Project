{
 "cells": [
  {
   "cell_type": "code",
   "execution_count": 1,
   "metadata": {},
   "outputs": [],
   "source": [
    "import csv"
   ]
  },
  {
   "cell_type": "code",
   "execution_count": 2,
   "metadata": {},
   "outputs": [],
   "source": [
    "file = open(\"./aussonderung.csv\", \"r\")"
   ]
  },
  {
   "cell_type": "code",
   "execution_count": 3,
   "metadata": {},
   "outputs": [
    {
     "data": {
      "text/plain": [
       "_io.TextIOWrapper"
      ]
     },
     "execution_count": 3,
     "metadata": {},
     "output_type": "execute_result"
    }
   ],
   "source": [
    "type(file)"
   ]
  },
  {
   "cell_type": "code",
   "execution_count": 4,
   "metadata": {},
   "outputs": [
    {
     "name": "stdout",
     "output_type": "stream",
     "text": [
      "<_io.TextIOWrapper name='./aussonderung.csv' mode='r' encoding='cp1252'>\n"
     ]
    }
   ],
   "source": [
    "print(file)"
   ]
  },
  {
   "cell_type": "code",
   "execution_count": 5,
   "metadata": {},
   "outputs": [
    {
     "data": {
      "text/plain": [
       "['HT019793989\\n', 'HT020379995\\n', 'HT020319679\\n', 'HT014682026\\n']"
      ]
     },
     "execution_count": 5,
     "metadata": {},
     "output_type": "execute_result"
    }
   ],
   "source": [
    "whole_text = file.readlines()\n",
    "whole_text"
   ]
  },
  {
   "cell_type": "code",
   "execution_count": 80,
   "metadata": {},
   "outputs": [],
   "source": [
    "with open('./aussonderung.csv', 'r') as infile:\n",
    "    data = infile.readlines()\n",
    "    title = infile.readline()"
   ]
  },
  {
   "cell_type": "code",
   "execution_count": 81,
   "metadata": {},
   "outputs": [
    {
     "data": {
      "text/plain": [
       "list"
      ]
     },
     "execution_count": 81,
     "metadata": {},
     "output_type": "execute_result"
    }
   ],
   "source": [
    "type(data)"
   ]
  },
  {
   "cell_type": "code",
   "execution_count": 82,
   "metadata": {},
   "outputs": [
    {
     "data": {
      "text/plain": [
       "['HT019793989\\n', 'HT020379995\\n', 'HT020319679\\n', 'HT014682026\\n']"
      ]
     },
     "execution_count": 82,
     "metadata": {},
     "output_type": "execute_result"
    }
   ],
   "source": [
    "data"
   ]
  },
  {
   "cell_type": "code",
   "execution_count": 83,
   "metadata": {},
   "outputs": [
    {
     "data": {
      "text/plain": [
       "str"
      ]
     },
     "execution_count": 83,
     "metadata": {},
     "output_type": "execute_result"
    }
   ],
   "source": [
    "type(title)"
   ]
  },
  {
   "cell_type": "code",
   "execution_count": 99,
   "metadata": {},
   "outputs": [
    {
     "name": "stdout",
     "output_type": "stream",
     "text": [
      "\n"
     ]
    }
   ],
   "source": [
    "print(title)\n"
   ]
  },
  {
   "cell_type": "code",
   "execution_count": 85,
   "metadata": {},
   "outputs": [
    {
     "name": "stdout",
     "output_type": "stream",
     "text": [
      "HT019793989\n",
      "HT020379995\n",
      "HT020319679\n",
      "HT014682026\n"
     ]
    }
   ],
   "source": [
    "with open('./aussonderung.csv', 'r') as infile:\n",
    "    for line in infile:\n",
    "        print(line.strip())"
   ]
  },
  {
   "cell_type": "code",
   "execution_count": 10,
   "metadata": {},
   "outputs": [
    {
     "name": "stdout",
     "output_type": "stream",
     "text": [
      "HT019793989\n",
      "HT020379995\n",
      "HT020319679\n",
      "HT014682026\n"
     ]
    }
   ],
   "source": [
    "for line in open('./aussonderung.csv', 'r'):\n",
    "    print(line.strip())"
   ]
  },
  {
   "cell_type": "code",
   "execution_count": 60,
   "metadata": {},
   "outputs": [],
   "source": [
    "import requests"
   ]
  },
  {
   "cell_type": "code",
   "execution_count": 61,
   "metadata": {},
   "outputs": [],
   "source": [
    "url = 'https://lobid.org/resources/'"
   ]
  },
  {
   "cell_type": "code",
   "execution_count": 107,
   "metadata": {},
   "outputs": [],
   "source": [
    "for row in data:\n",
    "    r=requests.get(url+str(row))"
   ]
  },
  {
   "cell_type": "code",
   "execution_count": 108,
   "metadata": {},
   "outputs": [
    {
     "data": {
      "text/plain": [
       "requests.models.Response"
      ]
     },
     "execution_count": 108,
     "metadata": {},
     "output_type": "execute_result"
    }
   ],
   "source": [
    "type(r)"
   ]
  },
  {
   "cell_type": "code",
   "execution_count": 109,
   "metadata": {},
   "outputs": [
    {
     "name": "stdout",
     "output_type": "stream",
     "text": [
      "<Response [404]>\n"
     ]
    }
   ],
   "source": [
    "print(r)"
   ]
  },
  {
   "cell_type": "code",
   "execution_count": 103,
   "metadata": {},
   "outputs": [
    {
     "data": {
      "text/plain": [
       "200"
      ]
     },
     "execution_count": 103,
     "metadata": {},
     "output_type": "execute_result"
    }
   ],
   "source": [
    "r.status_code"
   ]
  },
  {
   "cell_type": "code",
   "execution_count": 104,
   "metadata": {},
   "outputs": [
    {
     "data": {
      "text/plain": [
       "{'Date': 'Mon, 08 Jun 2020 20:18:22 GMT', 'Server': 'Apache/2.4.10 (Linux/SUSE)', 'Content-Type': 'text/html; charset=utf-8', 'Vary': 'Accept-Encoding', 'Content-Encoding': 'gzip', 'Access-Control-Allow-Origin': '*', 'Content-Length': '2540', 'Keep-Alive': 'timeout=15, max=511', 'Connection': 'Keep-Alive'}"
      ]
     },
     "execution_count": 104,
     "metadata": {},
     "output_type": "execute_result"
    }
   ],
   "source": [
    "r.headers"
   ]
  },
  {
   "cell_type": "code",
   "execution_count": 105,
   "metadata": {},
   "outputs": [
    {
     "data": {
      "text/plain": [
       "'text/html; charset=utf-8'"
      ]
     },
     "execution_count": 105,
     "metadata": {},
     "output_type": "execute_result"
    }
   ],
   "source": [
    "r.headers['Content-Type']"
   ]
  },
  {
   "cell_type": "code",
   "execution_count": 106,
   "metadata": {},
   "outputs": [
    {
     "data": {
      "text/plain": [
       "'\\n\\n\\n\\n\\n\\n<!DOCTYPE html>\\n\\n<html>\\n    <head>\\n        <title>lobid-resources</title>\\n        <link rel=\"stylesheet\" media=\"all\" href=\"/resources/assets/stylesheets/bootstrap.min.css\"/>\\n        <link rel=\"stylesheet\" media=\"all\" href=\"/resources/assets/stylesheets/octicons.css\"/>\\n        <link rel=\"stylesheet\" media=\"all\" href=\"/resources/assets/stylesheets/jquery-ui.min.css\"/>\\n        <link rel=\"stylesheet\" media=\"all\" href=\\'/resources/assets/stylesheets/font-awesome.min.css\\'/>\\n        <link rel=\"stylesheet\" media=\"all\" href=\"/resources/assets/stylesheets/resources.css\"/>\\n        <link rel=\"shortcut icon\" type=\"image/png\" href=\"/resources/assets/images/favicon.png\"/>\\n        \\n        <script src=\"/resources/assets/javascripts/jquery-1.10.2.min.js\"></script>\\n        <script src=\"/resources/assets/javascripts/jquery-ui.min.js\"></script>\\n        <script src=\"/resources/assets/javascripts/bootstrap.min.js\"></script>\\n        <script src=\"/resources/assets/javascripts/Chart.min.js\"></script>\\n        <meta name=\"viewport\" content=\"width=device-width, initial-scale=1\">\\n        <meta http-equiv=\"X-UA-Compatible\" content=\"IE=EmulateIE10\">\\n    </head>\\n    <body onload=\"var q = document.getElementById(\\'resourcesQuery\\'); if(q!=null){ q.focus(); };\">\\n        <div class=\"container\">\\n            <p/>\\n            <div class=\"navbar navbar-default\" role=\"navigation\">\\n                <div class=\"container-fluid\" id=\"header\">\\n                  <div class=\"navbar-header\">\\n                    <button type=\"button\" class=\"navbar-toggle collapsed\" data-toggle=\"collapse\" data-target=\"#resources-nav\">\\n                        <span class=\"sr-only\">Navigation ein/ausblenden</span>\\n                        <span class=\"icon-bar\"></span>\\n                        <span class=\"icon-bar\"></span>\\n                        <span class=\"icon-bar\"></span>\\n                    </button>\\n                    <a class=\"navbar-brand\" href=\"/\">\\n                     <span><img id=\"butterfly\" src=\\'/resources/assets/images/lobid.png\\'/></span></a>\\n                  </div>\\n                  <div class=\"navbar-collapse collapse\" id=\"resources-nav\">\\n                    <ul class=\"nav navbar-nav\">\\n                      <li  class=\"active\" >\\n                        <a href=\"/resources\">resources</a>\\n                      </li>\\n                      <li >\\n                        <a href=\"/resources/advanced\">Erweiterte Suche</a>\\n                      </li>\\n                      <li >\\n                        <a href=\"/resources/api\">API</a>\\n                      </li>\\n                    </ul>\\n                    <ul class=\"nav navbar-nav navbar-right\">\\n                      <li ><a href=\"/resources/stars\">Merkliste</a></li>\\n                      <li class=\"divider\"></li>\\n                      <li  class=\"dropdown\">\\n                        <a href=\"#\" class=\"dropdown-toggle\" data-toggle=\"dropdown\" title=\"Info\"><span class=\"glyphicon glyphicon-info-sign\"></span><b class=\"caret\"></b></a>\\n                        <ul class=\"dropdown-menu\">\\n                          <li ><a href=\\'/resources/dataset\\'>Datenbeschreibung</a></li>\\n                          <li><a href=\"mailto:semweb@hbz-nrw.de?subject=Feedback%20zu%20lobid-resources,%20aktuelle%20URL%20quaoar1.hbz-nrw.de%3A7500%2Fresources\">Feedback zur aktuellen Seite</a></li>\\n                        </ul>\\n                      </li>\\n                    </ul>\\n                  </div><!--/.nav-collapse -->\\n                </div><!--/.container-fluid -->\\n            </div>\\n            \\n\\n \\n\\n<form action=\"/resources/search\" method=\"GET\" id=\"resources-form\">\\n    \\n    <div class=\"input-group\" id=\"search-simple\">\\n      <input type=\"text\" name=\"q\" id=\"resourcesQuery\" value=\"\" class=\"form-control\" autocomplete=\"off\" \\n          title=\\'Boolesche Operatoren: AND, OR, AND NOT; Phrasensuche mit \"\"; Trunkierung mit *\\'\\n          placeholder=\\'Suchen in lobid-resources\\'/>\\n      <span class=\"input-group-btn\"><button class=\"btn btn-default\" type=\"submit\">\\n        <span class=\"glyphicon glyphicon-search\"></span></button></span>\\n    </div>\\n\\n</form>\\n\\n            \\n    <div class=\"page-header\">\\n        <img class=\"media-object nrw-logo pull-right\" src=\"/resources/assets/images/hbz.png\" alt=\"hbz\">\\n        <h1>lobid-resources <small>&mdash; der hbz-Verbundkatalog als Linked Open Data</small></h1>\\n    </div>\\n    <div class=\"row\">\\n\\t    <div class=\"col-md-12 intro\">\\n\\t       <p class=\"lead\">Der Verbundkatalog des Hochschulbibliothekszentrums NRW (hbz) enthält die kooperativ erstellten Nachweise von Titel- und Bestandsdaten der Verbundbibliotheken in Nordrhein-Westfalen und Rheinland-Pfalz.</p><p>Daneben sind die Nordrhein-Westfälische Bibliographie und alle Zeitschriften der Zeitschriftendatenbank (ZDB) in den hbz-Verbundkatalog integriert. Die von den Verbundbibliotheken und ihren zugeordneten Einrichtungen aktiv eingebrachten Bestände sind Grundlage für die Online-Fernleihe. Der hbz-Verbundkatalog wird ergänzt um die Bestandsnachweise einer Vielzahl öffentlicher und anderer Bibliotheken, die ihre Bestände maschinell an das hbz liefern.</p><p>Der Verbundkatalog hat einen Umfang von etwa 20 Millionen Titeldatensätzen plus Bestandsinformationen.</p><p>Das hbz, einige Kölner Bibliotheken und das Landesbibliothekszentrum Rheinland-Pfalz starteten 2010 eine Open-Data-Initiative mit der ersten Freigabe von Katalogdaten in Deutschland. Mittlerweile wird der gesamte hbz-Verbundkatalog unter <a href=\"https://creativecommons.org/publicdomain/zero/1.0/\">CC0</a> auf verschiedene Arten bereitgestellt: in dieser Oberfläche, als <a href=\"https://lobid.org/resources/api\">Programmierschnittstelle</a> sowie in Form von Vollabzügen als Linked Open Data und <a href=\"https://lobid.org/download/dumps/DE-605/mabxml/\">MAB/XML</a>. <a href=\"https://lobid.org/resources/dataset\"> Zur Datensetbeschreibung</a>.</p>\\n\\t    </div>\\n    </div>\\n    <script type=\"application/ld+json\">\\n    {\\n      \"@context\": \"https://schema.org\",\\n      \"@type\": \"WebSite\",\\n      \"url\": \"https://lobid.org/resources\",\\n      \"potentialAction\": {\\n        \"@type\": \"SearchAction\",\\n        \"target\": \"https://lobid.org/resources/search?q={search_term_string}\",\\n        \"query-input\": \"required name=search_term_string\"\\n      }\\n    }\\n    </script>\\n\\n            <div class=\"panel panel-default footer\">\\n              <div class=\"panel-body\">\\n                <span class=\"pull-left\">\\n\\t                <img src=\\'/resources/assets/images/wappen.png\\' alt=\"NRW-Wappen\"/> &nbsp;\\n\\t                lobid-resources | ein LOD-Dienst des <a href=\\'https://www.hbz-nrw.de/produkte/linked-open-data\\'>hbz — Hochschulbibliothekszentrum des Landes NRW</a>\\n                </span>\\n                <span class=\"pull-right\">\\n\\t                <a href=\"https://www.hbz-nrw.de/impressum\">Impressum</a> | \\n\\t                <a href=\"https://github.com/hbz/lobid/blob/master/conf/Datenschutzerklaerung_lobid.textile\">Datenschutz</a> |\\n\\t                <a href=\"https://twitter.com/lobidorg\"><i class=\"fa fa-twitter\" aria-hidden=\"true\"></i> Twitter</a>&nbsp; \\n\\t                <a href=\"https://github.com/hbz/lobid-resources\"><i class=\"fa fa-github\" aria-hidden=\"true\"></i> GitHub</a>&nbsp; \\n\\t                <a href=\"http://blog.lobid.org\"><i class=\"fa fa-pencil\" aria-hidden=\"true\"></i> Blog</a>\\n                </span>\\n              </div>\\n            </div>\\n        </div>\\n    </body>\\n</html>\\n\\n'"
      ]
     },
     "execution_count": 106,
     "metadata": {},
     "output_type": "execute_result"
    }
   ],
   "source": [
    "r.text"
   ]
  },
  {
   "cell_type": "code",
   "execution_count": null,
   "metadata": {},
   "outputs": [],
   "source": []
  },
  {
   "cell_type": "code",
   "execution_count": null,
   "metadata": {},
   "outputs": [],
   "source": []
  },
  {
   "cell_type": "code",
   "execution_count": null,
   "metadata": {},
   "outputs": [],
   "source": []
  },
  {
   "cell_type": "code",
   "execution_count": null,
   "metadata": {},
   "outputs": [],
   "source": []
  },
  {
   "cell_type": "code",
   "execution_count": null,
   "metadata": {},
   "outputs": [],
   "source": []
  },
  {
   "cell_type": "code",
   "execution_count": null,
   "metadata": {},
   "outputs": [],
   "source": []
  },
  {
   "cell_type": "code",
   "execution_count": null,
   "metadata": {},
   "outputs": [],
   "source": []
  },
  {
   "cell_type": "code",
   "execution_count": null,
   "metadata": {},
   "outputs": [],
   "source": []
  },
  {
   "cell_type": "code",
   "execution_count": 11,
   "metadata": {},
   "outputs": [],
   "source": [
    "with open('./output3.csv', 'w') as outfile:\n",
    "    outfile.writelines(data[:])"
   ]
  },
  {
   "cell_type": "code",
   "execution_count": null,
   "metadata": {},
   "outputs": [],
   "source": []
  },
  {
   "cell_type": "code",
   "execution_count": null,
   "metadata": {},
   "outputs": [],
   "source": []
  }
 ],
 "metadata": {
  "kernelspec": {
   "display_name": "Python 3",
   "language": "python",
   "name": "python3"
  },
  "language_info": {
   "codemirror_mode": {
    "name": "ipython",
    "version": 3
   },
   "file_extension": ".py",
   "mimetype": "text/x-python",
   "name": "python",
   "nbconvert_exporter": "python",
   "pygments_lexer": "ipython3",
   "version": "3.7.4"
  }
 },
 "nbformat": 4,
 "nbformat_minor": 2
}
